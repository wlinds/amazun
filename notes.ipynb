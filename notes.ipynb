{
 "cells": [
  {
   "attachments": {},
   "cell_type": "markdown",
   "metadata": {},
   "source": [
    "### **Approach 1: Creating and populating the database with SQLite**\n",
    "\n",
    "Since SQLite is server-less and self-contained I figured this would be a good starting point for a prototype.\\\n",
    "I created some scripts with sqlite3 to create and populate the database with authors, books, stores, customers, orders etc.\n",
    "\n",
    "I ended up with these tables:\n",
    "\n",
    "<div style=\"display: flex; flex-direction: row;\">\n",
    "  <div style=\"flex: 1; margin:5px;\">\n",
    "\n",
    "**Table 1: Author**\n",
    "- 'ID' (Primary Key)\n",
    "- 'Name'\n",
    "- 'Surname'\n",
    "- 'Birthdate'\n",
    "\n",
    "**Table 2: Book**\n",
    "- 'ISBN13' (Primary Key)\n",
    "- 'Title'\n",
    "- 'Language'\n",
    "- 'Price'\n",
    "- 'Release'\n",
    "- 'AuthID'\n",
    "\n",
    "\n",
    "**Table 3: Store**\n",
    "- 'ID' (Primary Key)\n",
    "- 'Store_Name'\n",
    "- 'Store_Address'\n",
    "\n",
    "</div>\n",
    "<div style=\"flex: 1; margin:5px;\">\n",
    "\n",
    "**Table 4: Inventory**\n",
    "- 'StoreID'\n",
    "- 'ISBN13'\n",
    "- 'Stock'\n",
    "- Composite Key: 'StoreID' & 'ISBN13'\n",
    "\n",
    "**Table 5: Cst (Customer)**\n",
    "- 'ID' (Primary Key)\n",
    "- 'Name'\n",
    "- 'Surname'\n",
    "- 'Address'\n",
    "- 'City'\n",
    "- 'State'\n",
    "- 'ZipCode'\n",
    "- 'Email'\n",
    "\n",
    "</div>\n",
    "<div style=\"flex: 1; margin:5px;\">\n",
    "\n",
    "**Table 6: Cst_Order**\n",
    "- 'OrderID' (Primary Key)\n",
    "- 'CustomerID'\n",
    "- 'Order_Date'\n",
    "- 'Expected_Delivery'\n",
    "- 'Total_Price'\n",
    "\n",
    "**Table 7: Cst_Order_Items**\n",
    "- 'OrderID (Primary Key)\n",
    "- 'ISBN13' (Primary key)\n",
    "- 'Units'\n",
    "- 'Shipped_From'\n",
    "- Composite Key: 'OrderID' & 'ISBN13'\n",
    "</div>"
   ]
  },
  {
   "attachments": {},
   "cell_type": "markdown",
   "metadata": {},
   "source": [
    "The requriement of the view *Vy: ”TitlarPerFörfattare”*, was created with some joins:"
   ]
  },
  {
   "cell_type": "code",
   "execution_count": null,
   "metadata": {},
   "outputs": [],
   "source": [
    "c.execute('''CREATE VIEW TitlarPerFörfattare AS\n",
    "               SELECT Author.Name || ' ' || Author.Surname AS Namn,\n",
    "                      strftime('%Y', 'now') - strftime('%Y', Author.Birthdate) AS Ålder,\n",
    "                      COUNT(DISTINCT Book.Title) AS Titlar,\n",
    "                      SUM(Book.Price * Inventory.Stock) AS Lagervärde\n",
    "               FROM Author\n",
    "               JOIN Book ON Author.ID = Book.AuthID\n",
    "               JOIN Inventory ON Book.ISBN13 = Inventory.ISBN13\n",
    "               GROUP BY Author.Name, Author.Surname\n",
    "               ORDER BY Namn''')"
   ]
  },
  {
   "attachments": {},
   "cell_type": "markdown",
   "metadata": {},
   "source": [
    "**Sample data**, such as customer info, was easy to generate with chatGPT.\\\n",
    "I made a function called populate_customer_table(), in which I added these rows:"
   ]
  },
  {
   "cell_type": "code",
   "execution_count": null,
   "metadata": {},
   "outputs": [],
   "source": [
    "    customer_data = [\n",
    "        ('John', 'Doe', 'johndoe@example.com', '123 Main St', 'New York', 'NY', '10001'),\n",
    "        ('Jane', 'Smith', 'janesmith@example.com', '456 Elm St', 'Los Angeles', 'CA', '90001'),\n",
    "        ('Bob', 'Johnson', 'bobjohnson@example.com', '789 Oak St', 'Chicago', 'IL', '60601'),\n",
    "        ('Alice', 'Lee', 'alicelee@example.com', '321 Maple St', 'Houston', 'TX', '77001'),\n",
    "        ('David', 'Brown', 'davidbrown@example.com', '654 Pine St', 'Philadelphia', 'PA', '19101')\n",
    "    ]"
   ]
  },
  {
   "attachments": {},
   "cell_type": "markdown",
   "metadata": {},
   "source": [
    "But I soon realized I'd actually already made a program for this, <a href=\"https://github.com/wlinds/tpme\">tpme</a>.\n",
    "\n",
    "tpme can generate names and email addresses but **not** physical home addresses.\n",
    "\n",
    "So should I focus on adding support for home address generation in tpme or should I port the SQLite code to a larger dbms?\n",
    "\n",
    "Neither -- *I have like 120 hours left until deadline. No problem. I'll work on some front end stuff.*"
   ]
  },
  {
   "attachments": {},
   "cell_type": "markdown",
   "metadata": {},
   "source": [
    "#### **Front-end hours**\n",
    "\n",
    "I started working on an interface with Flask to allow users to purchase books. But then it struck me that this was a total waste of time, I should rather make an interface for the shopkeepers at the store. Then we just outsource the customer-site creation and just hand them some API."
   ]
  },
  {
   "attachments": {},
   "cell_type": "markdown",
   "metadata": {},
   "source": [
    "---"
   ]
  },
  {
   "attachments": {},
   "cell_type": "markdown",
   "metadata": {},
   "source": [
    "**About ISBN**\n",
    "\n",
    "Example of how an ISBN is structured: ISBN 978-91-7000-150-5\n",
    "\n",
    "1. Prefix - all ISBNs begin with the prefix 978\n",
    "2. Area identifier - for nationally, geographically or linguistically determined areas (91 = Sweden)\n",
    "3. Publisher identifier (7000)\n",
    "4. Title identifier (150)\n",
    "5. Check digit (5)\n",
    "\n",
    "<a href=\"https://www.kb.se/download/18.280a529018702e6727e363d/1681904094677/ISBN-2023.pdf\">source</a>\n",
    "\n",
    "This might cause search issues. Users might query a seach as \"978-91-7000-150-5\", \"978-9170001505\" or \"9789170001505\".\n",
    "\n",
    "To solve this, we always strip search queries: "
   ]
  },
  {
   "cell_type": "code",
   "execution_count": 3,
   "metadata": {},
   "outputs": [
    {
     "name": "stdout",
     "output_type": "stream",
     "text": [
      "ISBN13 978-91-7000-150-5 validates True\n",
      "ISBN13 978-1734314509 validates False\n",
      "ISBN13 978-1788399081 validates True\n",
      "ISBN13 978-1788399083 validates False\n"
     ]
    }
   ],
   "source": [
    "from utils import validate_isbn\n",
    "\n",
    "# Validate ISBN\n",
    "# Source https://rosettacode.org/wiki/ISBN13_check_digit\n",
    "\n",
    "# Validate the check digit of an ISBN-13 code:\n",
    "\n",
    "#  Multiply every other digit by  3.\n",
    "#  Add these numbers and the other digits.\n",
    "#  Take the remainder of this number after division by  10.\n",
    "#  If it is  0,   the ISBN-13 check digit is correct.\n",
    "\n",
    "tests = '''\n",
    "978-91-7000-150-5\n",
    "978-1734314509\n",
    "978-1788399081\n",
    "978-1788399083'''.strip().split()\n",
    "for t in tests:\n",
    "    print(f\"ISBN13 {t} validates {validate_isbn(t)}\")"
   ]
  },
  {
   "attachments": {},
   "cell_type": "markdown",
   "metadata": {},
   "source": [
    "Also, ISBN should be stored as text data and not int, since some ISBN can start with 0."
   ]
  }
 ],
 "metadata": {
  "kernelspec": {
   "display_name": "Python 3",
   "language": "python",
   "name": "python3"
  },
  "language_info": {
   "codemirror_mode": {
    "name": "ipython",
    "version": 3
   },
   "file_extension": ".py",
   "mimetype": "text/x-python",
   "name": "python",
   "nbconvert_exporter": "python",
   "pygments_lexer": "ipython3",
   "version": "3.11.3"
  },
  "orig_nbformat": 4
 },
 "nbformat": 4,
 "nbformat_minor": 2
}
