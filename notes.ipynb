{
 "cells": [
  {
   "attachments": {},
   "cell_type": "markdown",
   "metadata": {},
   "source": [
    "### **Approach 1: Creating and populating the database with SQLite**\n",
    "\n",
    "Since SQLite is server-less and self-contained I figured this would be a good starting point for a prototype.\\\n",
    "I created some scripts with sqlite3 to create and populate the database with authors, books, stores, customers, orders etc.\n",
    "\n",
    "I ended up with these tables:\n",
    "\n",
    "<div style=\"display: flex; flex-direction: row;\">\n",
    "  <div style=\"flex: 1; margin:5px;\">\n",
    "\n",
    "**Table 1: Author**\n",
    "- 'ID' (Primary Key)\n",
    "- 'Name'\n",
    "- 'Surname'\n",
    "- 'Birthdate'\n",
    "\n",
    "**Table 2: Book**\n",
    "- 'ISBN13' (Primary Key)\n",
    "- 'Title'\n",
    "- 'Language'\n",
    "- 'Price'\n",
    "- 'Release'\n",
    "- 'AuthID'\n",
    "\n",
    "\n",
    "**Table 3: Store**\n",
    "- 'ID' (Primary Key)\n",
    "- 'Store_Name'\n",
    "- 'Store_Address'\n",
    "\n",
    "</div>\n",
    "<div style=\"flex: 1; margin:5px;\">\n",
    "\n",
    "**Table 4: Inventory**\n",
    "- 'StoreID'\n",
    "- 'ISBN13'\n",
    "- 'Stock'\n",
    "- Composite Key: 'StoreID' & 'ISBN13'\n",
    "\n",
    "**Table 5: Cst (Customer)**\n",
    "- 'ID' (Primary Key)\n",
    "- 'Name'\n",
    "- 'Surname'\n",
    "- 'Address'\n",
    "- 'City'\n",
    "- 'State'\n",
    "- 'ZipCode'\n",
    "- 'Email'\n",
    "\n",
    "</div>\n",
    "<div style=\"flex: 1; margin:5px;\">\n",
    "\n",
    "**Table 6: Cst_Order**\n",
    "- 'OrderID' (Primary Key)\n",
    "- 'CustomerID'\n",
    "- 'Order_Date'\n",
    "- 'Expected_Delivery'\n",
    "- 'Total_Price'\n",
    "\n",
    "**Table 7: Cst_Order_Items**\n",
    "- 'OrderID (Primary Key)\n",
    "- 'ISBN13' (Primary key)\n",
    "- 'Units'\n",
    "- 'Shipped_From'\n",
    "- Composite Key: 'OrderID' & 'ISBN13'\n",
    "</div>"
   ]
  },
  {
   "attachments": {},
   "cell_type": "markdown",
   "metadata": {},
   "source": [
    "The requriement of the view *Vy: ”TitlarPerFörfattare”*, was created with some joins:"
   ]
  },
  {
   "cell_type": "code",
   "execution_count": null,
   "metadata": {},
   "outputs": [],
   "source": [
    "c.execute('''CREATE VIEW TitlarPerFörfattare AS\n",
    "               SELECT Author.Name || ' ' || Author.Surname AS Namn,\n",
    "                      strftime('%Y', 'now') - strftime('%Y', Author.Birthdate) AS Ålder,\n",
    "                      COUNT(DISTINCT Book.Title) AS Titlar,\n",
    "                      SUM(Book.Price * Inventory.Stock) AS Lagervärde\n",
    "               FROM Author\n",
    "               JOIN Book ON Author.ID = Book.AuthID\n",
    "               JOIN Inventory ON Book.ISBN13 = Inventory.ISBN13\n",
    "               GROUP BY Author.Name, Author.Surname\n",
    "               ORDER BY Namn''')"
   ]
  },
  {
   "attachments": {},
   "cell_type": "markdown",
   "metadata": {},
   "source": [
    "**Sample data**, such as customer info was easy to generate with chatGPT.\\\n",
    "I made a function called populate_customer_table(), in which I added these rows:"
   ]
  },
  {
   "cell_type": "code",
   "execution_count": null,
   "metadata": {},
   "outputs": [],
   "source": [
    "    customer_data = [\n",
    "        ('John', 'Doe', 'johndoe@example.com', '123 Main St', 'New York', 'NY', '10001'),\n",
    "        ('Jane', 'Smith', 'janesmith@example.com', '456 Elm St', 'Los Angeles', 'CA', '90001'),\n",
    "        ('Bob', 'Johnson', 'bobjohnson@example.com', '789 Oak St', 'Chicago', 'IL', '60601'),\n",
    "        ('Alice', 'Lee', 'alicelee@example.com', '321 Maple St', 'Houston', 'TX', '77001'),\n",
    "        ('David', 'Brown', 'davidbrown@example.com', '654 Pine St', 'Philadelphia', 'PA', '19101')\n",
    "    ]"
   ]
  },
  {
   "attachments": {},
   "cell_type": "markdown",
   "metadata": {},
   "source": [
    "But I soon realized I'd actually already made a program for this, <a href=\"https://github.com/wlinds/tpme\">tpme</a>.\n",
    "\n",
    "tpme can generate names and email addresses but **not** physical home addresses.\n",
    "\n",
    "So should I focus on adding support for home address generation in tpme or should I port the SQLite code to a larger dbms?\n",
    "\n",
    "Neither -- *I have like 120 hours left until deadline. No problem. I'll work on some front end stuff.*"
   ]
  },
  {
   "attachments": {},
   "cell_type": "markdown",
   "metadata": {},
   "source": [
    "**Front-end hours**\n",
    "\n",
    "I started working on an interface with Flask to allow users to purchase books. But then it struck me that this was a total waste of time, I should rather make an interface for the shopkeepers at the store. Then we just outsource the customer-site creation and just hand them some API.\n",
    "\n",
    "Something that would be useful for both management and customers would be a search function. "
   ]
  },
  {
   "attachments": {},
   "cell_type": "markdown",
   "metadata": {},
   "source": [
    "**Search function**"
   ]
  },
  {
   "cell_type": "code",
   "execution_count": 2,
   "metadata": {},
   "outputs": [
    {
     "data": {
      "text/plain": [
       "{\"The Hitchhiker's Guide to the Galaxy\": [('123 Main St.', 86),\n",
       "  ('456 Elm St.', 32),\n",
       "  ('789 Oak St.', 30)]}"
      ]
     },
     "execution_count": 2,
     "metadata": {},
     "output_type": "execute_result"
    }
   ],
   "source": [
    "from books import search_books\n",
    "\n",
    "search_books('Hitchhiker')"
   ]
  },
  {
   "attachments": {},
   "cell_type": "markdown",
   "metadata": {},
   "source": [
    "### **Writing and burning books**\n",
    "\n",
    "I created a function to add books and to remove (burn) books. Adding books was easy (except for ISBN checksum I which I messed up), will return to this later. But the burn_book() function caused some errors.\n",
    "\n",
    "The burn_book() worked flawelessly for any newly added book, but if I tried to burn books that were currently in stock I received the error:\n",
    "\n",
    "<code>\n",
    "AssertionError: Dependency rule tried to blank-out primary key column 'Inventory.ISBN13' on instance\n",
    "</code>\n",
    "\n",
    "I think the foreign key constraint was trying to blank-out the primary key column ISBN13 on the instance of Inventory instead of deleting the row referencing the book. Of course, this is not allowed because the ISBN13 column is part of the primary key of the Inventory table, and therefore cannot be null or empty.\n",
    "\n",
    "To solve this, I had to update the logic in the burn_book function to check for and delete any referencing rows in the Inventory table before attempting to burn the book from the Book table."
   ]
  },
  {
   "attachments": {},
   "cell_type": "markdown",
   "metadata": {},
   "source": [
    "### **Stocking books (add to Inventory table)**\n",
    "\n",
    "After adding books to the table Book, we might wanna add these books to our Inventory/Stock. This again caused an error if we already had the book in stock. To solve this we first make a query to check if the book is in stock or not."
   ]
  },
  {
   "cell_type": "code",
   "execution_count": null,
   "metadata": {},
   "outputs": [],
   "source": [
    "def add_to_inventory(isbn, store_id, stock):\n",
    "    session = Session()\n",
    "    inventory = session.query(Inventory).filter_by(ISBN13=isbn, StoreID=store_id).first()\n",
    "    if inventory:\n",
    "        inventory.Stock += stock\n",
    "    else:\n",
    "        inventory = Inventory(ISBN13=isbn, StoreID=store_id, Stock=stock)\n",
    "        session.add(inventory)\n",
    "    session.commit()"
   ]
  },
  {
   "attachments": {},
   "cell_type": "markdown",
   "metadata": {},
   "source": [
    "Now we have functions to search for existing books, write new books, burn books and stock books. These functions should be accessed by the bookstore staff. But what about our clients, customers, resellers, etc. They should be able to order books!"
   ]
  },
  {
   "attachments": {},
   "cell_type": "markdown",
   "metadata": {},
   "source": [
    "### **Actually selling books (or buying, depending on who you are)**\n",
    "I made a new function which allows any registered customer to purchase any book if its in stock."
   ]
  },
  {
   "cell_type": "code",
   "execution_count": 1,
   "metadata": {},
   "outputs": [
    {
     "name": "stdout",
     "output_type": "stream",
     "text": [
      "John purchased 2 copies of 'The Lord of the Rings' (ISBN: 9780007117116) from '123 Main St.' for a total cost of 59.98.\n",
      "There are 4 copies of 'The Lord of the Rings' (ISBN: 9780007117116) left in stock at '123 Main St.'.\n"
     ]
    }
   ],
   "source": [
    "from customer import purchase_book\n",
    "\n",
    "purchase_book(\"9780007117116\", 1, 1, 2)"
   ]
  },
  {
   "cell_type": "code",
   "execution_count": 3,
   "metadata": {},
   "outputs": [
    {
     "name": "stdout",
     "output_type": "stream",
     "text": [
      "Sry, out of stock in this store. Try another store.\n"
     ]
    }
   ],
   "source": [
    "purchase_book(\"9780007117116\", 1, 1, 9999)"
   ]
  },
  {
   "attachments": {},
   "cell_type": "markdown",
   "metadata": {},
   "source": [
    "Some basic error handling.\n",
    "\n",
    "To make this work as I wanted I also had to create a new table:\n",
    "\n",
    "# Transactions\n",
    "\n",
    "Transactions contain ISBN, StoreID, CustomerID, Quantity, DateTime of Purchase and Total_Cost."
   ]
  },
  {
   "attachments": {},
   "cell_type": "markdown",
   "metadata": {},
   "source": [
    "Its like 80 hours left until deadline and I have so many ideas. But I really should work on improving the base code in models.py before adding more stuff. I've added a TODO:"
   ]
  },
  {
   "cell_type": "code",
   "execution_count": null,
   "metadata": {},
   "outputs": [],
   "source": [
    "#TODO:\n",
    "# Update to strict naming conventions (snake_case)\n",
    "# Reduce redundancy (DRY)\n",
    "# Improve constraints\n",
    "# Remove declarative_base() (Legacy code)"
   ]
  },
  {
   "attachments": {},
   "cell_type": "markdown",
   "metadata": {},
   "source": [
    "I will probably let that TODO sit there for a while, maybe indefinitely."
   ]
  },
  {
   "attachments": {},
   "cell_type": "markdown",
   "metadata": {},
   "source": [
    "Ok, so I've actually updated mostly all names to snake_case! 🐍 While at it I made the column names a bit more intuitive. I have some names left, StoreID, for example. But I just have to go through all the functions in store_manager.py to adjust this."
   ]
  },
  {
   "attachments": {},
   "cell_type": "markdown",
   "metadata": {},
   "source": [
    "### **Moving books**"
   ]
  },
  {
   "cell_type": "code",
   "execution_count": 1,
   "metadata": {},
   "outputs": [
    {
     "name": "stdout",
     "output_type": "stream",
     "text": [
      "1000 copies of ISBN 9780007117116 moved from store 2 to store 3.\n"
     ]
    },
    {
     "data": {
      "text/plain": [
       "True"
      ]
     },
     "execution_count": 1,
     "metadata": {},
     "output_type": "execute_result"
    }
   ],
   "source": [
    "from store_manager import *\n",
    "\n",
    "move_books(9780007117116, 2, 3, 1000)"
   ]
  },
  {
   "attachments": {},
   "cell_type": "markdown",
   "metadata": {},
   "source": [
    "Running this in ipynb is weird but let's try it. Testing with new instance from scratch:"
   ]
  },
  {
   "cell_type": "code",
   "execution_count": 1,
   "metadata": {},
   "outputs": [
    {
     "name": "stdout",
     "output_type": "stream",
     "text": [
      "Added 200 copies of 9780007117116 to Toads Books.\n",
      "Added 5000 of all existing books to The Great Library\n",
      "View created successfully.\n",
      "The Lord of the Rings\n",
      "Harry Potter and the Philosopher's Stone\n",
      "The Picture of Dorian Gray\n",
      "The Hitchhiker's Guide to the Galaxy\n",
      "John purchased 10 copies of 'The Lord of the Rings' (ISBN: 9780007117116) from 'Toads Books' for a total cost of 299.9.\n",
      "John now owns 10 book(s) (1 unique) and has a total spending of 299.9000000000.\n",
      "Jane purchased 1 copies of 'The Lord of the Rings' (ISBN: 9780007117116) from 'The Great Library' for a total cost of 29.99.\n",
      "Jane now owns 1 book(s) (1 unique) and has a total spending of 29.9900000000.\n",
      "1000 copies of ISBN 9780007117116 moved from store 2 to store 3.\n",
      "190 copies of ISBN 9780007117116 moved from store 1 to store 2.\n",
      "Sry, The Lord of the Rings is out of stock in this store.\n",
      "Checking other stores...\n",
      "Great news, the book The Lord of the Rings was found at Böcker & Babbel!\n",
      "Bob purchased 3 copies of 'The Lord of the Rings' (ISBN: 9780007117116) from 'Böcker & Babbel' for a total cost of 89.97.\n",
      "Bob now owns 3 book(s) (1 unique) and has a total spending of 89.9700000000.\n",
      "Total sales: 420 coins. Nice.\n"
     ]
    }
   ],
   "source": [
    "from models import *\n",
    "import os, store_manager, books, customer\n",
    "from Scripts.utils import titles_by_author, get_title, total_sales\n",
    "def some_testing():\n",
    "\n",
    "    Base.metadata.create_all(bind=engine)\n",
    "\n",
    "    store_manager.get_dummy_stores()\n",
    "    books.get_dummy_books()\n",
    "\n",
    "    books.get_dummy_authors()\n",
    "\n",
    "    # Add 200 copies of Lord of The Rings to Store 1\n",
    "    books.add_to_inventory(9780007117116, 1, 200, verbose=True)\n",
    "\n",
    "    # Add 5000 copies of ALL existing books to store 2:\n",
    "    books.add_all_books(store_id=2, copies=5000, verbose=True)\n",
    "\n",
    "    # Add view #TODO: Missing date of birth\n",
    "    titles_by_author()\n",
    "\n",
    "    # Add dummy customers\n",
    "    customer.get_dummy_cst()\n",
    "\n",
    "    # Search book\n",
    "    results = books.search_books(\"The\")\n",
    "    for i in results:\n",
    "        print(i)\n",
    "\n",
    "    # Customer book purchase\n",
    "    customer.purchase_book(9780007117116, 1, 1, 10)\n",
    "    customer.purchase_book(9780007117116, 2, 2, 1)\n",
    "    # Move books\n",
    "    store_manager.move_books(9780007117116, 2, 3, 1000)\n",
    "    store_manager.move_books(9780007117116, 1, 2, 190)\n",
    "    customer.purchase_book(\"9780007117116\", 1, 3, 3)\n",
    "    customer.purchase_book(\"9780007117116\", 3, 3, 3)\n",
    "    total_sales()\n",
    "\n",
    "some_testing()"
   ]
  },
  {
   "attachments": {},
   "cell_type": "markdown",
   "metadata": {},
   "source": [
    "And we run it again to check error handling:"
   ]
  },
  {
   "cell_type": "code",
   "execution_count": 2,
   "metadata": {},
   "outputs": [
    {
     "name": "stdout",
     "output_type": "stream",
     "text": [
      "Store 'Toads Books' already exists\n",
      "Store 'The Great Library' already exists\n",
      "Store 'Böcker & Babbel' already exists\n",
      "Book '9780007117116' already exists as The Lord of the Rings.\n",
      "Book '9780439554930' already exists as Harry Potter and the Philosopher's Stone.\n",
      "Book '9780553801477' already exists as Foundation.\n",
      "Book '9780553588488' already exists as Ender's Game.\n",
      "Book '9781400031702' already exists as The Picture of Dorian Gray.\n",
      "Book '9780141187761' already exists as Nineteen Eighty-Four.\n",
      "Book '9780316346627' already exists as A Game of Thrones.\n",
      "Book '9780061124952' already exists as American Gods.\n",
      "Book '9780679745587' already exists as One Hundred Years of Solitude.\n",
      "Book '9780553382563' already exists as The Hitchhiker's Guide to the Galaxy.\n",
      "Added 200 copies of 9780007117116 to Toads Books.\n",
      "Added 5000 of all existing books to The Great Library\n",
      "View already exists.\n",
      "The Lord of the Rings\n",
      "Harry Potter and the Philosopher's Stone\n",
      "The Picture of Dorian Gray\n",
      "The Hitchhiker's Guide to the Galaxy\n",
      "John purchased 10 copies of 'The Lord of the Rings' (ISBN: 9780007117116) from 'Toads Books' for a total cost of 299.9.\n",
      "John now owns 20 book(s) (1 unique) and has a total spending of 599.8000000000.\n"
     ]
    },
    {
     "ename": "TimeoutError",
     "evalue": "QueuePool limit of size 5 overflow 10 reached, connection timed out, timeout 30.00 (Background on this error at: https://sqlalche.me/e/20/3o7r)",
     "output_type": "error",
     "traceback": [
      "\u001b[0;31m---------------------------------------------------------------------------\u001b[0m",
      "\u001b[0;31mTimeoutError\u001b[0m                              Traceback (most recent call last)",
      "Cell \u001b[0;32mIn[2], line 1\u001b[0m\n\u001b[0;32m----> 1\u001b[0m some_testing()\n",
      "Cell \u001b[0;32mIn[1], line 32\u001b[0m, in \u001b[0;36msome_testing\u001b[0;34m()\u001b[0m\n\u001b[1;32m     30\u001b[0m \u001b[39m# Customer book purchase\u001b[39;00m\n\u001b[1;32m     31\u001b[0m customer\u001b[39m.\u001b[39mpurchase_book(\u001b[39m9780007117116\u001b[39m, \u001b[39m1\u001b[39m, \u001b[39m1\u001b[39m, \u001b[39m10\u001b[39m)\n\u001b[0;32m---> 32\u001b[0m customer\u001b[39m.\u001b[39;49mpurchase_book(\u001b[39m9780007117116\u001b[39;49m, \u001b[39m2\u001b[39;49m, \u001b[39m2\u001b[39;49m, \u001b[39m1\u001b[39;49m)\n\u001b[1;32m     33\u001b[0m \u001b[39m# Move books\u001b[39;00m\n\u001b[1;32m     34\u001b[0m store_manager\u001b[39m.\u001b[39mmove_books(\u001b[39m9780007117116\u001b[39m, \u001b[39m2\u001b[39m, \u001b[39m3\u001b[39m, \u001b[39m1000\u001b[39m)\n",
      "File \u001b[0;32m~/_bookstore/amazun/customer.py:55\u001b[0m, in \u001b[0;36mpurchase_book\u001b[0;34m(isbn, store_id, customer_id, quantity)\u001b[0m\n\u001b[1;32m     52\u001b[0m     session\u001b[39m.\u001b[39mcommit()\n\u001b[1;32m     54\u001b[0m \u001b[39m# Get the name of the book, store and customer (TODO: probably an easier way to do this)\u001b[39;00m\n\u001b[0;32m---> 55\u001b[0m book_name, store_name, customer_name \u001b[39m=\u001b[39m get_title(isbn), get_store(store_id), get_customer(customer_id)\n\u001b[1;32m     57\u001b[0m \u001b[39m# Total books owned and total spending\u001b[39;00m\n\u001b[1;32m     58\u001b[0m total_books_owned \u001b[39m=\u001b[39m session\u001b[39m.\u001b[39mquery(func\u001b[39m.\u001b[39msum(CustomerBooks\u001b[39m.\u001b[39mcopies_owned))\u001b[39m.\u001b[39mfilter_by(customer_id\u001b[39m=\u001b[39mcustomer_id)\u001b[39m.\u001b[39mscalar()\n",
      "File \u001b[0;32m~/_bookstore/amazun/customer.py:96\u001b[0m, in \u001b[0;36mget_customer\u001b[0;34m(customer_id)\u001b[0m\n\u001b[1;32m     95\u001b[0m \u001b[39mdef\u001b[39;00m \u001b[39mget_customer\u001b[39m(customer_id):\n\u001b[0;32m---> 96\u001b[0m     \u001b[39mreturn\u001b[39;00m Session()\u001b[39m.\u001b[39;49mquery(Customer\u001b[39m.\u001b[39;49mname)\u001b[39m.\u001b[39;49mfilter_by(ID\u001b[39m=\u001b[39;49mcustomer_id)\u001b[39m.\u001b[39;49mscalar()\n",
      "File \u001b[0;32m/usr/local/lib/python3.11/site-packages/sqlalchemy/orm/query.py:2833\u001b[0m, in \u001b[0;36mQuery.scalar\u001b[0;34m(self)\u001b[0m\n\u001b[1;32m   2831\u001b[0m \u001b[39m# TODO: not sure why we can't use result.scalar() here\u001b[39;00m\n\u001b[1;32m   2832\u001b[0m \u001b[39mtry\u001b[39;00m:\n\u001b[0;32m-> 2833\u001b[0m     ret \u001b[39m=\u001b[39m \u001b[39mself\u001b[39;49m\u001b[39m.\u001b[39;49mone()\n\u001b[1;32m   2834\u001b[0m     \u001b[39mif\u001b[39;00m \u001b[39mnot\u001b[39;00m \u001b[39misinstance\u001b[39m(ret, collections_abc\u001b[39m.\u001b[39mSequence):\n\u001b[1;32m   2835\u001b[0m         \u001b[39mreturn\u001b[39;00m ret\n",
      "File \u001b[0;32m/usr/local/lib/python3.11/site-packages/sqlalchemy/orm/query.py:2806\u001b[0m, in \u001b[0;36mQuery.one\u001b[0;34m(self)\u001b[0m\n\u001b[1;32m   2784\u001b[0m \u001b[39mdef\u001b[39;00m \u001b[39mone\u001b[39m(\u001b[39mself\u001b[39m) \u001b[39m-\u001b[39m\u001b[39m>\u001b[39m _T:\n\u001b[1;32m   2785\u001b[0m \u001b[39m    \u001b[39m\u001b[39m\"\"\"Return exactly one result or raise an exception.\u001b[39;00m\n\u001b[1;32m   2786\u001b[0m \n\u001b[1;32m   2787\u001b[0m \u001b[39m    Raises ``sqlalchemy.orm.exc.NoResultFound`` if the query selects\u001b[39;00m\n\u001b[0;32m   (...)\u001b[0m\n\u001b[1;32m   2804\u001b[0m \n\u001b[1;32m   2805\u001b[0m \u001b[39m    \"\"\"\u001b[39;00m\n\u001b[0;32m-> 2806\u001b[0m     \u001b[39mreturn\u001b[39;00m \u001b[39mself\u001b[39;49m\u001b[39m.\u001b[39;49m_iter()\u001b[39m.\u001b[39mone()\n",
      "File \u001b[0;32m/usr/local/lib/python3.11/site-packages/sqlalchemy/orm/query.py:2855\u001b[0m, in \u001b[0;36mQuery._iter\u001b[0;34m(self)\u001b[0m\n\u001b[1;32m   2852\u001b[0m params \u001b[39m=\u001b[39m \u001b[39mself\u001b[39m\u001b[39m.\u001b[39m_params\n\u001b[1;32m   2854\u001b[0m statement \u001b[39m=\u001b[39m \u001b[39mself\u001b[39m\u001b[39m.\u001b[39m_statement_20()\n\u001b[0;32m-> 2855\u001b[0m result: Union[ScalarResult[_T], Result[_T]] \u001b[39m=\u001b[39m \u001b[39mself\u001b[39;49m\u001b[39m.\u001b[39;49msession\u001b[39m.\u001b[39;49mexecute(\n\u001b[1;32m   2856\u001b[0m     statement,\n\u001b[1;32m   2857\u001b[0m     params,\n\u001b[1;32m   2858\u001b[0m     execution_options\u001b[39m=\u001b[39;49m{\u001b[39m\"\u001b[39;49m\u001b[39m_sa_orm_load_options\u001b[39;49m\u001b[39m\"\u001b[39;49m: \u001b[39mself\u001b[39;49m\u001b[39m.\u001b[39;49mload_options},\n\u001b[1;32m   2859\u001b[0m )\n\u001b[1;32m   2861\u001b[0m \u001b[39m# legacy: automatically set scalars, unique\u001b[39;00m\n\u001b[1;32m   2862\u001b[0m \u001b[39mif\u001b[39;00m result\u001b[39m.\u001b[39m_attributes\u001b[39m.\u001b[39mget(\u001b[39m\"\u001b[39m\u001b[39mis_single_entity\u001b[39m\u001b[39m\"\u001b[39m, \u001b[39mFalse\u001b[39;00m):\n",
      "File \u001b[0;32m/usr/local/lib/python3.11/site-packages/sqlalchemy/orm/session.py:2229\u001b[0m, in \u001b[0;36mSession.execute\u001b[0;34m(self, statement, params, execution_options, bind_arguments, _parent_execute_state, _add_event)\u001b[0m\n\u001b[1;32m   2168\u001b[0m \u001b[39mdef\u001b[39;00m \u001b[39mexecute\u001b[39m(\n\u001b[1;32m   2169\u001b[0m     \u001b[39mself\u001b[39m,\n\u001b[1;32m   2170\u001b[0m     statement: Executable,\n\u001b[0;32m   (...)\u001b[0m\n\u001b[1;32m   2176\u001b[0m     _add_event: Optional[Any] \u001b[39m=\u001b[39m \u001b[39mNone\u001b[39;00m,\n\u001b[1;32m   2177\u001b[0m ) \u001b[39m-\u001b[39m\u001b[39m>\u001b[39m Result[Any]:\n\u001b[1;32m   2178\u001b[0m \u001b[39m    \u001b[39m\u001b[39mr\u001b[39m\u001b[39m\"\"\"Execute a SQL expression construct.\u001b[39;00m\n\u001b[1;32m   2179\u001b[0m \n\u001b[1;32m   2180\u001b[0m \u001b[39m    Returns a :class:`_engine.Result` object representing\u001b[39;00m\n\u001b[0;32m   (...)\u001b[0m\n\u001b[1;32m   2227\u001b[0m \n\u001b[1;32m   2228\u001b[0m \u001b[39m    \"\"\"\u001b[39;00m\n\u001b[0;32m-> 2229\u001b[0m     \u001b[39mreturn\u001b[39;00m \u001b[39mself\u001b[39;49m\u001b[39m.\u001b[39;49m_execute_internal(\n\u001b[1;32m   2230\u001b[0m         statement,\n\u001b[1;32m   2231\u001b[0m         params,\n\u001b[1;32m   2232\u001b[0m         execution_options\u001b[39m=\u001b[39;49mexecution_options,\n\u001b[1;32m   2233\u001b[0m         bind_arguments\u001b[39m=\u001b[39;49mbind_arguments,\n\u001b[1;32m   2234\u001b[0m         _parent_execute_state\u001b[39m=\u001b[39;49m_parent_execute_state,\n\u001b[1;32m   2235\u001b[0m         _add_event\u001b[39m=\u001b[39;49m_add_event,\n\u001b[1;32m   2236\u001b[0m     )\n",
      "File \u001b[0;32m/usr/local/lib/python3.11/site-packages/sqlalchemy/orm/session.py:2114\u001b[0m, in \u001b[0;36mSession._execute_internal\u001b[0;34m(self, statement, params, execution_options, bind_arguments, _parent_execute_state, _add_event, _scalar_result)\u001b[0m\n\u001b[1;32m   2100\u001b[0m     (\n\u001b[1;32m   2101\u001b[0m         statement,\n\u001b[1;32m   2102\u001b[0m         execution_options,\n\u001b[0;32m   (...)\u001b[0m\n\u001b[1;32m   2109\u001b[0m         \u001b[39mFalse\u001b[39;00m,\n\u001b[1;32m   2110\u001b[0m     )\n\u001b[1;32m   2112\u001b[0m bind \u001b[39m=\u001b[39m \u001b[39mself\u001b[39m\u001b[39m.\u001b[39mget_bind(\u001b[39m*\u001b[39m\u001b[39m*\u001b[39mbind_arguments)\n\u001b[0;32m-> 2114\u001b[0m conn \u001b[39m=\u001b[39m \u001b[39mself\u001b[39;49m\u001b[39m.\u001b[39;49m_connection_for_bind(bind)\n\u001b[1;32m   2116\u001b[0m \u001b[39mif\u001b[39;00m _scalar_result \u001b[39mand\u001b[39;00m \u001b[39mnot\u001b[39;00m compile_state_cls:\n\u001b[1;32m   2117\u001b[0m     \u001b[39mif\u001b[39;00m TYPE_CHECKING:\n",
      "File \u001b[0;32m/usr/local/lib/python3.11/site-packages/sqlalchemy/orm/session.py:1981\u001b[0m, in \u001b[0;36mSession._connection_for_bind\u001b[0;34m(self, engine, execution_options, **kw)\u001b[0m\n\u001b[1;32m   1979\u001b[0m \u001b[39mif\u001b[39;00m trans \u001b[39mis\u001b[39;00m \u001b[39mNone\u001b[39;00m:\n\u001b[1;32m   1980\u001b[0m     trans \u001b[39m=\u001b[39m \u001b[39mself\u001b[39m\u001b[39m.\u001b[39m_autobegin_t()\n\u001b[0;32m-> 1981\u001b[0m \u001b[39mreturn\u001b[39;00m trans\u001b[39m.\u001b[39;49m_connection_for_bind(engine, execution_options)\n",
      "File \u001b[0;32m<string>:2\u001b[0m, in \u001b[0;36m_connection_for_bind\u001b[0;34m(self, bind, execution_options)\u001b[0m\n",
      "File \u001b[0;32m/usr/local/lib/python3.11/site-packages/sqlalchemy/orm/state_changes.py:137\u001b[0m, in \u001b[0;36m_StateChange.declare_states.<locals>._go\u001b[0;34m(fn, self, *arg, **kw)\u001b[0m\n\u001b[1;32m    135\u001b[0m \u001b[39mself\u001b[39m\u001b[39m.\u001b[39m_next_state \u001b[39m=\u001b[39m _StateChangeStates\u001b[39m.\u001b[39mCHANGE_IN_PROGRESS\n\u001b[1;32m    136\u001b[0m \u001b[39mtry\u001b[39;00m:\n\u001b[0;32m--> 137\u001b[0m     ret_value \u001b[39m=\u001b[39m fn(\u001b[39mself\u001b[39;49m, \u001b[39m*\u001b[39;49marg, \u001b[39m*\u001b[39;49m\u001b[39m*\u001b[39;49mkw)\n\u001b[1;32m    138\u001b[0m \u001b[39mexcept\u001b[39;00m:\n\u001b[1;32m    139\u001b[0m     \u001b[39mraise\u001b[39;00m\n",
      "File \u001b[0;32m/usr/local/lib/python3.11/site-packages/sqlalchemy/orm/session.py:1108\u001b[0m, in \u001b[0;36mSessionTransaction._connection_for_bind\u001b[0;34m(self, bind, execution_options)\u001b[0m\n\u001b[1;32m   1103\u001b[0m             \u001b[39mraise\u001b[39;00m sa_exc\u001b[39m.\u001b[39mInvalidRequestError(\n\u001b[1;32m   1104\u001b[0m                 \u001b[39m\"\u001b[39m\u001b[39mSession already has a Connection associated for the \u001b[39m\u001b[39m\"\u001b[39m\n\u001b[1;32m   1105\u001b[0m                 \u001b[39m\"\u001b[39m\u001b[39mgiven Connection\u001b[39m\u001b[39m'\u001b[39m\u001b[39ms Engine\u001b[39m\u001b[39m\"\u001b[39m\n\u001b[1;32m   1106\u001b[0m             )\n\u001b[1;32m   1107\u001b[0m     \u001b[39melse\u001b[39;00m:\n\u001b[0;32m-> 1108\u001b[0m         conn \u001b[39m=\u001b[39m bind\u001b[39m.\u001b[39;49mconnect()\n\u001b[1;32m   1109\u001b[0m         local_connect \u001b[39m=\u001b[39m \u001b[39mTrue\u001b[39;00m\n\u001b[1;32m   1111\u001b[0m \u001b[39mtry\u001b[39;00m:\n",
      "File \u001b[0;32m/usr/local/lib/python3.11/site-packages/sqlalchemy/engine/base.py:3251\u001b[0m, in \u001b[0;36mEngine.connect\u001b[0;34m(self)\u001b[0m\n\u001b[1;32m   3228\u001b[0m \u001b[39mdef\u001b[39;00m \u001b[39mconnect\u001b[39m(\u001b[39mself\u001b[39m) \u001b[39m-\u001b[39m\u001b[39m>\u001b[39m Connection:\n\u001b[1;32m   3229\u001b[0m \u001b[39m    \u001b[39m\u001b[39m\"\"\"Return a new :class:`_engine.Connection` object.\u001b[39;00m\n\u001b[1;32m   3230\u001b[0m \n\u001b[1;32m   3231\u001b[0m \u001b[39m    The :class:`_engine.Connection` acts as a Python context manager, so\u001b[39;00m\n\u001b[0;32m   (...)\u001b[0m\n\u001b[1;32m   3248\u001b[0m \n\u001b[1;32m   3249\u001b[0m \u001b[39m    \"\"\"\u001b[39;00m\n\u001b[0;32m-> 3251\u001b[0m     \u001b[39mreturn\u001b[39;00m \u001b[39mself\u001b[39;49m\u001b[39m.\u001b[39;49m_connection_cls(\u001b[39mself\u001b[39;49m)\n",
      "File \u001b[0;32m/usr/local/lib/python3.11/site-packages/sqlalchemy/engine/base.py:145\u001b[0m, in \u001b[0;36mConnection.__init__\u001b[0;34m(self, engine, connection, _has_events, _allow_revalidate, _allow_autobegin)\u001b[0m\n\u001b[1;32m    143\u001b[0m \u001b[39mif\u001b[39;00m connection \u001b[39mis\u001b[39;00m \u001b[39mNone\u001b[39;00m:\n\u001b[1;32m    144\u001b[0m     \u001b[39mtry\u001b[39;00m:\n\u001b[0;32m--> 145\u001b[0m         \u001b[39mself\u001b[39m\u001b[39m.\u001b[39m_dbapi_connection \u001b[39m=\u001b[39m engine\u001b[39m.\u001b[39;49mraw_connection()\n\u001b[1;32m    146\u001b[0m     \u001b[39mexcept\u001b[39;00m dialect\u001b[39m.\u001b[39mloaded_dbapi\u001b[39m.\u001b[39mError \u001b[39mas\u001b[39;00m err:\n\u001b[1;32m    147\u001b[0m         Connection\u001b[39m.\u001b[39m_handle_dbapi_exception_noconnection(\n\u001b[1;32m    148\u001b[0m             err, dialect, engine\n\u001b[1;32m    149\u001b[0m         )\n",
      "File \u001b[0;32m/usr/local/lib/python3.11/site-packages/sqlalchemy/engine/base.py:3275\u001b[0m, in \u001b[0;36mEngine.raw_connection\u001b[0;34m(self)\u001b[0m\n\u001b[1;32m   3253\u001b[0m \u001b[39mdef\u001b[39;00m \u001b[39mraw_connection\u001b[39m(\u001b[39mself\u001b[39m) \u001b[39m-\u001b[39m\u001b[39m>\u001b[39m PoolProxiedConnection:\n\u001b[1;32m   3254\u001b[0m \u001b[39m    \u001b[39m\u001b[39m\"\"\"Return a \"raw\" DBAPI connection from the connection pool.\u001b[39;00m\n\u001b[1;32m   3255\u001b[0m \n\u001b[1;32m   3256\u001b[0m \u001b[39m    The returned object is a proxied version of the DBAPI\u001b[39;00m\n\u001b[0;32m   (...)\u001b[0m\n\u001b[1;32m   3273\u001b[0m \n\u001b[1;32m   3274\u001b[0m \u001b[39m    \"\"\"\u001b[39;00m\n\u001b[0;32m-> 3275\u001b[0m     \u001b[39mreturn\u001b[39;00m \u001b[39mself\u001b[39;49m\u001b[39m.\u001b[39;49mpool\u001b[39m.\u001b[39;49mconnect()\n",
      "File \u001b[0;32m/usr/local/lib/python3.11/site-packages/sqlalchemy/pool/base.py:455\u001b[0m, in \u001b[0;36mPool.connect\u001b[0;34m(self)\u001b[0m\n\u001b[1;32m    447\u001b[0m \u001b[39mdef\u001b[39;00m \u001b[39mconnect\u001b[39m(\u001b[39mself\u001b[39m) \u001b[39m-\u001b[39m\u001b[39m>\u001b[39m PoolProxiedConnection:\n\u001b[1;32m    448\u001b[0m \u001b[39m    \u001b[39m\u001b[39m\"\"\"Return a DBAPI connection from the pool.\u001b[39;00m\n\u001b[1;32m    449\u001b[0m \n\u001b[1;32m    450\u001b[0m \u001b[39m    The connection is instrumented such that when its\u001b[39;00m\n\u001b[0;32m   (...)\u001b[0m\n\u001b[1;32m    453\u001b[0m \n\u001b[1;32m    454\u001b[0m \u001b[39m    \"\"\"\u001b[39;00m\n\u001b[0;32m--> 455\u001b[0m     \u001b[39mreturn\u001b[39;00m _ConnectionFairy\u001b[39m.\u001b[39;49m_checkout(\u001b[39mself\u001b[39;49m)\n",
      "File \u001b[0;32m/usr/local/lib/python3.11/site-packages/sqlalchemy/pool/base.py:1271\u001b[0m, in \u001b[0;36m_ConnectionFairy._checkout\u001b[0;34m(cls, pool, threadconns, fairy)\u001b[0m\n\u001b[1;32m   1262\u001b[0m \u001b[39m@classmethod\u001b[39m\n\u001b[1;32m   1263\u001b[0m \u001b[39mdef\u001b[39;00m \u001b[39m_checkout\u001b[39m(\n\u001b[1;32m   1264\u001b[0m     \u001b[39mcls\u001b[39m,\n\u001b[0;32m   (...)\u001b[0m\n\u001b[1;32m   1267\u001b[0m     fairy: Optional[_ConnectionFairy] \u001b[39m=\u001b[39m \u001b[39mNone\u001b[39;00m,\n\u001b[1;32m   1268\u001b[0m ) \u001b[39m-\u001b[39m\u001b[39m>\u001b[39m _ConnectionFairy:\n\u001b[1;32m   1270\u001b[0m     \u001b[39mif\u001b[39;00m \u001b[39mnot\u001b[39;00m fairy:\n\u001b[0;32m-> 1271\u001b[0m         fairy \u001b[39m=\u001b[39m _ConnectionRecord\u001b[39m.\u001b[39;49mcheckout(pool)\n\u001b[1;32m   1273\u001b[0m         \u001b[39mif\u001b[39;00m threadconns \u001b[39mis\u001b[39;00m \u001b[39mnot\u001b[39;00m \u001b[39mNone\u001b[39;00m:\n\u001b[1;32m   1274\u001b[0m             threadconns\u001b[39m.\u001b[39mcurrent \u001b[39m=\u001b[39m weakref\u001b[39m.\u001b[39mref(fairy)\n",
      "File \u001b[0;32m/usr/local/lib/python3.11/site-packages/sqlalchemy/pool/base.py:719\u001b[0m, in \u001b[0;36m_ConnectionRecord.checkout\u001b[0;34m(cls, pool)\u001b[0m\n\u001b[1;32m    717\u001b[0m     rec \u001b[39m=\u001b[39m cast(_ConnectionRecord, pool\u001b[39m.\u001b[39m_do_get())\n\u001b[1;32m    718\u001b[0m \u001b[39melse\u001b[39;00m:\n\u001b[0;32m--> 719\u001b[0m     rec \u001b[39m=\u001b[39m pool\u001b[39m.\u001b[39;49m_do_get()\n\u001b[1;32m    721\u001b[0m \u001b[39mtry\u001b[39;00m:\n\u001b[1;32m    722\u001b[0m     dbapi_connection \u001b[39m=\u001b[39m rec\u001b[39m.\u001b[39mget_connection()\n",
      "File \u001b[0;32m/usr/local/lib/python3.11/site-packages/sqlalchemy/pool/impl.py:157\u001b[0m, in \u001b[0;36mQueuePool._do_get\u001b[0;34m(self)\u001b[0m\n\u001b[1;32m    155\u001b[0m         \u001b[39mreturn\u001b[39;00m \u001b[39mself\u001b[39m\u001b[39m.\u001b[39m_do_get()\n\u001b[1;32m    156\u001b[0m     \u001b[39melse\u001b[39;00m:\n\u001b[0;32m--> 157\u001b[0m         \u001b[39mraise\u001b[39;00m exc\u001b[39m.\u001b[39mTimeoutError(\n\u001b[1;32m    158\u001b[0m             \u001b[39m\"\u001b[39m\u001b[39mQueuePool limit of size \u001b[39m\u001b[39m%d\u001b[39;00m\u001b[39m overflow \u001b[39m\u001b[39m%d\u001b[39;00m\u001b[39m reached, \u001b[39m\u001b[39m\"\u001b[39m\n\u001b[1;32m    159\u001b[0m             \u001b[39m\"\u001b[39m\u001b[39mconnection timed out, timeout \u001b[39m\u001b[39m%0.2f\u001b[39;00m\u001b[39m\"\u001b[39m\n\u001b[1;32m    160\u001b[0m             \u001b[39m%\u001b[39m (\u001b[39mself\u001b[39m\u001b[39m.\u001b[39msize(), \u001b[39mself\u001b[39m\u001b[39m.\u001b[39moverflow(), \u001b[39mself\u001b[39m\u001b[39m.\u001b[39m_timeout),\n\u001b[1;32m    161\u001b[0m             code\u001b[39m=\u001b[39m\u001b[39m\"\u001b[39m\u001b[39m3o7r\u001b[39m\u001b[39m\"\u001b[39m,\n\u001b[1;32m    162\u001b[0m         )\n\u001b[1;32m    164\u001b[0m \u001b[39mif\u001b[39;00m \u001b[39mself\u001b[39m\u001b[39m.\u001b[39m_inc_overflow():\n\u001b[1;32m    165\u001b[0m     \u001b[39mtry\u001b[39;00m:\n",
      "\u001b[0;31mTimeoutError\u001b[0m: QueuePool limit of size 5 overflow 10 reached, connection timed out, timeout 30.00 (Background on this error at: https://sqlalche.me/e/20/3o7r)"
     ]
    }
   ],
   "source": [
    "some_testing()"
   ]
  },
  {
   "attachments": {},
   "cell_type": "markdown",
   "metadata": {},
   "source": [
    "Issue occurs when Jane tries to make a purchase:\n",
    "```customer.purchase_book(9780007117116, 2, 2, 1)```\\\n",
    "(isbn, store_id, customer_id, quantity)\n",
    "\n",
    "In the function we call ```get_customer(customer_id)``` which runs a query to simply print the name of the customer_id:\n",
    "\n",
    "```Session().query(Customer.name).filter_by(ID=customer_id).scalar()```\n",
    "\n",
    "Using .scalar() here is not necessary since we only every use this to query for 1 and only 1 name. I'll change that."
   ]
  },
  {
   "cell_type": "code",
   "execution_count": 3,
   "metadata": {},
   "outputs": [
    {
     "name": "stdout",
     "output_type": "stream",
     "text": [
      "Store 'Toads Books' already exists\n",
      "Store 'The Great Library' already exists\n",
      "Store 'Böcker & Babbel' already exists\n",
      "Book '9780007117116' already exists as The Lord of the Rings.\n",
      "Book '9780439554930' already exists as Harry Potter and the Philosopher's Stone.\n",
      "Book '9780553801477' already exists as Foundation.\n",
      "Book '9780553588488' already exists as Ender's Game.\n",
      "Book '9781400031702' already exists as The Picture of Dorian Gray.\n",
      "Book '9780141187761' already exists as Nineteen Eighty-Four.\n",
      "Book '9780316346627' already exists as A Game of Thrones.\n",
      "Book '9780061124952' already exists as American Gods.\n",
      "Book '9780679745587' already exists as One Hundred Years of Solitude.\n",
      "Book '9780553382563' already exists as The Hitchhiker's Guide to the Galaxy.\n"
     ]
    },
    {
     "ename": "OperationalError",
     "evalue": "(sqlite3.OperationalError) attempt to write a readonly database\n[SQL: INSERT INTO \"Author\" (name, surname, birthdate) VALUES (?, ?, ?)]\n[parameters: ('J.R.R.', 'Tolkien', None)]\n(Background on this error at: https://sqlalche.me/e/20/e3q8)",
     "output_type": "error",
     "traceback": [
      "\u001b[0;31m---------------------------------------------------------------------------\u001b[0m",
      "\u001b[0;31mOperationalError\u001b[0m                          Traceback (most recent call last)",
      "File \u001b[0;32m/usr/local/lib/python3.11/site-packages/sqlalchemy/engine/base.py:1964\u001b[0m, in \u001b[0;36mConnection._exec_single_context\u001b[0;34m(self, dialect, context, statement, parameters)\u001b[0m\n\u001b[1;32m   1963\u001b[0m     \u001b[39mif\u001b[39;00m \u001b[39mnot\u001b[39;00m evt_handled:\n\u001b[0;32m-> 1964\u001b[0m         \u001b[39mself\u001b[39;49m\u001b[39m.\u001b[39;49mdialect\u001b[39m.\u001b[39;49mdo_execute(\n\u001b[1;32m   1965\u001b[0m             cursor, str_statement, effective_parameters, context\n\u001b[1;32m   1966\u001b[0m         )\n\u001b[1;32m   1968\u001b[0m \u001b[39mif\u001b[39;00m \u001b[39mself\u001b[39m\u001b[39m.\u001b[39m_has_events \u001b[39mor\u001b[39;00m \u001b[39mself\u001b[39m\u001b[39m.\u001b[39mengine\u001b[39m.\u001b[39m_has_events:\n",
      "File \u001b[0;32m/usr/local/lib/python3.11/site-packages/sqlalchemy/engine/default.py:748\u001b[0m, in \u001b[0;36mDefaultDialect.do_execute\u001b[0;34m(self, cursor, statement, parameters, context)\u001b[0m\n\u001b[1;32m    747\u001b[0m \u001b[39mdef\u001b[39;00m \u001b[39mdo_execute\u001b[39m(\u001b[39mself\u001b[39m, cursor, statement, parameters, context\u001b[39m=\u001b[39m\u001b[39mNone\u001b[39;00m):\n\u001b[0;32m--> 748\u001b[0m     cursor\u001b[39m.\u001b[39mexecute(statement, parameters)\n",
      "\u001b[0;31mOperationalError\u001b[0m: attempt to write a readonly database",
      "\nThe above exception was the direct cause of the following exception:\n",
      "\u001b[0;31mOperationalError\u001b[0m                          Traceback (most recent call last)",
      "Cell \u001b[0;32mIn[3], line 2\u001b[0m\n\u001b[1;32m      1\u001b[0m \u001b[39mimport\u001b[39;00m \u001b[39mcustomer\u001b[39;00m\n\u001b[0;32m----> 2\u001b[0m some_testing()\n",
      "Cell \u001b[0;32mIn[1], line 11\u001b[0m, in \u001b[0;36msome_testing\u001b[0;34m()\u001b[0m\n\u001b[1;32m      8\u001b[0m store_manager\u001b[39m.\u001b[39mget_dummy_stores()\n\u001b[1;32m      9\u001b[0m books\u001b[39m.\u001b[39mget_dummy_books()\n\u001b[0;32m---> 11\u001b[0m books\u001b[39m.\u001b[39;49mget_dummy_authors()\n\u001b[1;32m     13\u001b[0m \u001b[39m# Add 200 copies of Lord of The Rings to Store 1\u001b[39;00m\n\u001b[1;32m     14\u001b[0m books\u001b[39m.\u001b[39madd_to_inventory(\u001b[39m9780007117116\u001b[39m, \u001b[39m1\u001b[39m, \u001b[39m200\u001b[39m, verbose\u001b[39m=\u001b[39m\u001b[39mTrue\u001b[39;00m)\n",
      "File \u001b[0;32m~/_bookstore/amazun/books.py:184\u001b[0m, in \u001b[0;36mget_dummy_authors\u001b[0;34m()\u001b[0m\n\u001b[1;32m    182\u001b[0m     new_author \u001b[39m=\u001b[39m Author(name\u001b[39m=\u001b[39mfirst_name, surname\u001b[39m=\u001b[39mlast_name)\n\u001b[1;32m    183\u001b[0m     session\u001b[39m.\u001b[39madd(new_author)\n\u001b[0;32m--> 184\u001b[0m     session\u001b[39m.\u001b[39;49mcommit()\n\u001b[1;32m    186\u001b[0m \u001b[39mexcept\u001b[39;00m IntegrityError:\n\u001b[1;32m    187\u001b[0m     \u001b[39mprint\u001b[39m(\u001b[39mf\u001b[39m\u001b[39m\"\u001b[39m\u001b[39mAuthor \u001b[39m\u001b[39m'\u001b[39m\u001b[39m{\u001b[39;00mauthor_name\u001b[39m}\u001b[39;00m\u001b[39m'\u001b[39m\u001b[39m already exists.\u001b[39m\u001b[39m\"\u001b[39m)\n",
      "File \u001b[0;32m/usr/local/lib/python3.11/site-packages/sqlalchemy/orm/session.py:1903\u001b[0m, in \u001b[0;36mSession.commit\u001b[0;34m(self)\u001b[0m\n\u001b[1;32m   1900\u001b[0m \u001b[39mif\u001b[39;00m trans \u001b[39mis\u001b[39;00m \u001b[39mNone\u001b[39;00m:\n\u001b[1;32m   1901\u001b[0m     trans \u001b[39m=\u001b[39m \u001b[39mself\u001b[39m\u001b[39m.\u001b[39m_autobegin_t()\n\u001b[0;32m-> 1903\u001b[0m trans\u001b[39m.\u001b[39;49mcommit(_to_root\u001b[39m=\u001b[39;49m\u001b[39mTrue\u001b[39;49;00m)\n",
      "File \u001b[0;32m<string>:2\u001b[0m, in \u001b[0;36mcommit\u001b[0;34m(self, _to_root)\u001b[0m\n",
      "File \u001b[0;32m/usr/local/lib/python3.11/site-packages/sqlalchemy/orm/state_changes.py:137\u001b[0m, in \u001b[0;36m_StateChange.declare_states.<locals>._go\u001b[0;34m(fn, self, *arg, **kw)\u001b[0m\n\u001b[1;32m    135\u001b[0m \u001b[39mself\u001b[39m\u001b[39m.\u001b[39m_next_state \u001b[39m=\u001b[39m _StateChangeStates\u001b[39m.\u001b[39mCHANGE_IN_PROGRESS\n\u001b[1;32m    136\u001b[0m \u001b[39mtry\u001b[39;00m:\n\u001b[0;32m--> 137\u001b[0m     ret_value \u001b[39m=\u001b[39m fn(\u001b[39mself\u001b[39;49m, \u001b[39m*\u001b[39;49marg, \u001b[39m*\u001b[39;49m\u001b[39m*\u001b[39;49mkw)\n\u001b[1;32m    138\u001b[0m \u001b[39mexcept\u001b[39;00m:\n\u001b[1;32m    139\u001b[0m     \u001b[39mraise\u001b[39;00m\n",
      "File \u001b[0;32m/usr/local/lib/python3.11/site-packages/sqlalchemy/orm/session.py:1218\u001b[0m, in \u001b[0;36mSessionTransaction.commit\u001b[0;34m(self, _to_root)\u001b[0m\n\u001b[1;32m   1216\u001b[0m \u001b[39mif\u001b[39;00m \u001b[39mself\u001b[39m\u001b[39m.\u001b[39m_state \u001b[39mis\u001b[39;00m \u001b[39mnot\u001b[39;00m SessionTransactionState\u001b[39m.\u001b[39mPREPARED:\n\u001b[1;32m   1217\u001b[0m     \u001b[39mwith\u001b[39;00m \u001b[39mself\u001b[39m\u001b[39m.\u001b[39m_expect_state(SessionTransactionState\u001b[39m.\u001b[39mPREPARED):\n\u001b[0;32m-> 1218\u001b[0m         \u001b[39mself\u001b[39;49m\u001b[39m.\u001b[39;49m_prepare_impl()\n\u001b[1;32m   1220\u001b[0m \u001b[39mif\u001b[39;00m \u001b[39mself\u001b[39m\u001b[39m.\u001b[39m_parent \u001b[39mis\u001b[39;00m \u001b[39mNone\u001b[39;00m \u001b[39mor\u001b[39;00m \u001b[39mself\u001b[39m\u001b[39m.\u001b[39mnested:\n\u001b[1;32m   1221\u001b[0m     \u001b[39mfor\u001b[39;00m conn, trans, should_commit, autoclose \u001b[39min\u001b[39;00m \u001b[39mset\u001b[39m(\n\u001b[1;32m   1222\u001b[0m         \u001b[39mself\u001b[39m\u001b[39m.\u001b[39m_connections\u001b[39m.\u001b[39mvalues()\n\u001b[1;32m   1223\u001b[0m     ):\n",
      "File \u001b[0;32m<string>:2\u001b[0m, in \u001b[0;36m_prepare_impl\u001b[0;34m(self)\u001b[0m\n",
      "File \u001b[0;32m/usr/local/lib/python3.11/site-packages/sqlalchemy/orm/state_changes.py:137\u001b[0m, in \u001b[0;36m_StateChange.declare_states.<locals>._go\u001b[0;34m(fn, self, *arg, **kw)\u001b[0m\n\u001b[1;32m    135\u001b[0m \u001b[39mself\u001b[39m\u001b[39m.\u001b[39m_next_state \u001b[39m=\u001b[39m _StateChangeStates\u001b[39m.\u001b[39mCHANGE_IN_PROGRESS\n\u001b[1;32m    136\u001b[0m \u001b[39mtry\u001b[39;00m:\n\u001b[0;32m--> 137\u001b[0m     ret_value \u001b[39m=\u001b[39m fn(\u001b[39mself\u001b[39;49m, \u001b[39m*\u001b[39;49marg, \u001b[39m*\u001b[39;49m\u001b[39m*\u001b[39;49mkw)\n\u001b[1;32m    138\u001b[0m \u001b[39mexcept\u001b[39;00m:\n\u001b[1;32m    139\u001b[0m     \u001b[39mraise\u001b[39;00m\n",
      "File \u001b[0;32m/usr/local/lib/python3.11/site-packages/sqlalchemy/orm/session.py:1193\u001b[0m, in \u001b[0;36mSessionTransaction._prepare_impl\u001b[0;34m(self)\u001b[0m\n\u001b[1;32m   1191\u001b[0m     \u001b[39mif\u001b[39;00m \u001b[39mself\u001b[39m\u001b[39m.\u001b[39msession\u001b[39m.\u001b[39m_is_clean():\n\u001b[1;32m   1192\u001b[0m         \u001b[39mbreak\u001b[39;00m\n\u001b[0;32m-> 1193\u001b[0m     \u001b[39mself\u001b[39;49m\u001b[39m.\u001b[39;49msession\u001b[39m.\u001b[39;49mflush()\n\u001b[1;32m   1194\u001b[0m \u001b[39melse\u001b[39;00m:\n\u001b[1;32m   1195\u001b[0m     \u001b[39mraise\u001b[39;00m exc\u001b[39m.\u001b[39mFlushError(\n\u001b[1;32m   1196\u001b[0m         \u001b[39m\"\u001b[39m\u001b[39mOver 100 subsequent flushes have occurred within \u001b[39m\u001b[39m\"\u001b[39m\n\u001b[1;32m   1197\u001b[0m         \u001b[39m\"\u001b[39m\u001b[39msession.commit() - is an after_flush() hook \u001b[39m\u001b[39m\"\u001b[39m\n\u001b[1;32m   1198\u001b[0m         \u001b[39m\"\u001b[39m\u001b[39mcreating new objects?\u001b[39m\u001b[39m\"\u001b[39m\n\u001b[1;32m   1199\u001b[0m     )\n",
      "File \u001b[0;32m/usr/local/lib/python3.11/site-packages/sqlalchemy/orm/session.py:4155\u001b[0m, in \u001b[0;36mSession.flush\u001b[0;34m(self, objects)\u001b[0m\n\u001b[1;32m   4153\u001b[0m \u001b[39mtry\u001b[39;00m:\n\u001b[1;32m   4154\u001b[0m     \u001b[39mself\u001b[39m\u001b[39m.\u001b[39m_flushing \u001b[39m=\u001b[39m \u001b[39mTrue\u001b[39;00m\n\u001b[0;32m-> 4155\u001b[0m     \u001b[39mself\u001b[39;49m\u001b[39m.\u001b[39;49m_flush(objects)\n\u001b[1;32m   4156\u001b[0m \u001b[39mfinally\u001b[39;00m:\n\u001b[1;32m   4157\u001b[0m     \u001b[39mself\u001b[39m\u001b[39m.\u001b[39m_flushing \u001b[39m=\u001b[39m \u001b[39mFalse\u001b[39;00m\n",
      "File \u001b[0;32m/usr/local/lib/python3.11/site-packages/sqlalchemy/orm/session.py:4291\u001b[0m, in \u001b[0;36mSession._flush\u001b[0;34m(self, objects)\u001b[0m\n\u001b[1;32m   4288\u001b[0m     transaction\u001b[39m.\u001b[39mcommit()\n\u001b[1;32m   4290\u001b[0m \u001b[39mexcept\u001b[39;00m:\n\u001b[0;32m-> 4291\u001b[0m     \u001b[39mwith\u001b[39;49;00m util\u001b[39m.\u001b[39;49msafe_reraise():\n\u001b[1;32m   4292\u001b[0m         transaction\u001b[39m.\u001b[39;49mrollback(_capture_exception\u001b[39m=\u001b[39;49m\u001b[39mTrue\u001b[39;49;00m)\n",
      "File \u001b[0;32m/usr/local/lib/python3.11/site-packages/sqlalchemy/util/langhelpers.py:147\u001b[0m, in \u001b[0;36msafe_reraise.__exit__\u001b[0;34m(self, type_, value, traceback)\u001b[0m\n\u001b[1;32m    145\u001b[0m     \u001b[39massert\u001b[39;00m exc_value \u001b[39mis\u001b[39;00m \u001b[39mnot\u001b[39;00m \u001b[39mNone\u001b[39;00m\n\u001b[1;32m    146\u001b[0m     \u001b[39mself\u001b[39m\u001b[39m.\u001b[39m_exc_info \u001b[39m=\u001b[39m \u001b[39mNone\u001b[39;00m  \u001b[39m# remove potential circular references\u001b[39;00m\n\u001b[0;32m--> 147\u001b[0m     \u001b[39mraise\u001b[39;00m exc_value\u001b[39m.\u001b[39mwith_traceback(exc_tb)\n\u001b[1;32m    148\u001b[0m \u001b[39melse\u001b[39;00m:\n\u001b[1;32m    149\u001b[0m     \u001b[39mself\u001b[39m\u001b[39m.\u001b[39m_exc_info \u001b[39m=\u001b[39m \u001b[39mNone\u001b[39;00m  \u001b[39m# remove potential circular references\u001b[39;00m\n",
      "File \u001b[0;32m/usr/local/lib/python3.11/site-packages/sqlalchemy/orm/session.py:4252\u001b[0m, in \u001b[0;36mSession._flush\u001b[0;34m(self, objects)\u001b[0m\n\u001b[1;32m   4250\u001b[0m \u001b[39mself\u001b[39m\u001b[39m.\u001b[39m_warn_on_events \u001b[39m=\u001b[39m \u001b[39mTrue\u001b[39;00m\n\u001b[1;32m   4251\u001b[0m \u001b[39mtry\u001b[39;00m:\n\u001b[0;32m-> 4252\u001b[0m     flush_context\u001b[39m.\u001b[39;49mexecute()\n\u001b[1;32m   4253\u001b[0m \u001b[39mfinally\u001b[39;00m:\n\u001b[1;32m   4254\u001b[0m     \u001b[39mself\u001b[39m\u001b[39m.\u001b[39m_warn_on_events \u001b[39m=\u001b[39m \u001b[39mFalse\u001b[39;00m\n",
      "File \u001b[0;32m/usr/local/lib/python3.11/site-packages/sqlalchemy/orm/unitofwork.py:467\u001b[0m, in \u001b[0;36mUOWTransaction.execute\u001b[0;34m(self)\u001b[0m\n\u001b[1;32m    465\u001b[0m \u001b[39melse\u001b[39;00m:\n\u001b[1;32m    466\u001b[0m     \u001b[39mfor\u001b[39;00m rec \u001b[39min\u001b[39;00m topological\u001b[39m.\u001b[39msort(\u001b[39mself\u001b[39m\u001b[39m.\u001b[39mdependencies, postsort_actions):\n\u001b[0;32m--> 467\u001b[0m         rec\u001b[39m.\u001b[39;49mexecute(\u001b[39mself\u001b[39;49m)\n",
      "File \u001b[0;32m/usr/local/lib/python3.11/site-packages/sqlalchemy/orm/unitofwork.py:644\u001b[0m, in \u001b[0;36mSaveUpdateAll.execute\u001b[0;34m(self, uow)\u001b[0m\n\u001b[1;32m    642\u001b[0m \u001b[39m@util\u001b[39m\u001b[39m.\u001b[39mpreload_module(\u001b[39m\"\u001b[39m\u001b[39msqlalchemy.orm.persistence\u001b[39m\u001b[39m\"\u001b[39m)\n\u001b[1;32m    643\u001b[0m \u001b[39mdef\u001b[39;00m \u001b[39mexecute\u001b[39m(\u001b[39mself\u001b[39m, uow):\n\u001b[0;32m--> 644\u001b[0m     util\u001b[39m.\u001b[39;49mpreloaded\u001b[39m.\u001b[39;49morm_persistence\u001b[39m.\u001b[39;49msave_obj(\n\u001b[1;32m    645\u001b[0m         \u001b[39mself\u001b[39;49m\u001b[39m.\u001b[39;49mmapper,\n\u001b[1;32m    646\u001b[0m         uow\u001b[39m.\u001b[39;49mstates_for_mapper_hierarchy(\u001b[39mself\u001b[39;49m\u001b[39m.\u001b[39;49mmapper, \u001b[39mFalse\u001b[39;49;00m, \u001b[39mFalse\u001b[39;49;00m),\n\u001b[1;32m    647\u001b[0m         uow,\n\u001b[1;32m    648\u001b[0m     )\n",
      "File \u001b[0;32m/usr/local/lib/python3.11/site-packages/sqlalchemy/orm/persistence.py:93\u001b[0m, in \u001b[0;36msave_obj\u001b[0;34m(base_mapper, states, uowtransaction, single)\u001b[0m\n\u001b[1;32m     81\u001b[0m     update \u001b[39m=\u001b[39m _collect_update_commands(\n\u001b[1;32m     82\u001b[0m         uowtransaction, table, states_to_update\n\u001b[1;32m     83\u001b[0m     )\n\u001b[1;32m     85\u001b[0m     _emit_update_statements(\n\u001b[1;32m     86\u001b[0m         base_mapper,\n\u001b[1;32m     87\u001b[0m         uowtransaction,\n\u001b[0;32m   (...)\u001b[0m\n\u001b[1;32m     90\u001b[0m         update,\n\u001b[1;32m     91\u001b[0m     )\n\u001b[0;32m---> 93\u001b[0m     _emit_insert_statements(\n\u001b[1;32m     94\u001b[0m         base_mapper,\n\u001b[1;32m     95\u001b[0m         uowtransaction,\n\u001b[1;32m     96\u001b[0m         mapper,\n\u001b[1;32m     97\u001b[0m         table,\n\u001b[1;32m     98\u001b[0m         insert,\n\u001b[1;32m     99\u001b[0m     )\n\u001b[1;32m    101\u001b[0m _finalize_insert_update_commands(\n\u001b[1;32m    102\u001b[0m     base_mapper,\n\u001b[1;32m    103\u001b[0m     uowtransaction,\n\u001b[0;32m   (...)\u001b[0m\n\u001b[1;32m    119\u001b[0m     ),\n\u001b[1;32m    120\u001b[0m )\n",
      "File \u001b[0;32m/usr/local/lib/python3.11/site-packages/sqlalchemy/orm/persistence.py:1184\u001b[0m, in \u001b[0;36m_emit_insert_statements\u001b[0;34m(base_mapper, uowtransaction, mapper, table, insert, bookkeeping, use_orm_insert_stmt, execution_options)\u001b[0m\n\u001b[1;32m   1178\u001b[0m     result \u001b[39m=\u001b[39m connection\u001b[39m.\u001b[39mexecute(\n\u001b[1;32m   1179\u001b[0m         statement\u001b[39m.\u001b[39mvalues(value_params),\n\u001b[1;32m   1180\u001b[0m         params,\n\u001b[1;32m   1181\u001b[0m         execution_options\u001b[39m=\u001b[39mexecution_options,\n\u001b[1;32m   1182\u001b[0m     )\n\u001b[1;32m   1183\u001b[0m \u001b[39melse\u001b[39;00m:\n\u001b[0;32m-> 1184\u001b[0m     result \u001b[39m=\u001b[39m connection\u001b[39m.\u001b[39;49mexecute(\n\u001b[1;32m   1185\u001b[0m         statement,\n\u001b[1;32m   1186\u001b[0m         params,\n\u001b[1;32m   1187\u001b[0m         execution_options\u001b[39m=\u001b[39;49mexecution_options,\n\u001b[1;32m   1188\u001b[0m     )\n\u001b[1;32m   1190\u001b[0m primary_key \u001b[39m=\u001b[39m result\u001b[39m.\u001b[39minserted_primary_key\n\u001b[1;32m   1191\u001b[0m \u001b[39mif\u001b[39;00m primary_key \u001b[39mis\u001b[39;00m \u001b[39mNone\u001b[39;00m:\n",
      "File \u001b[0;32m/usr/local/lib/python3.11/site-packages/sqlalchemy/engine/base.py:1414\u001b[0m, in \u001b[0;36mConnection.execute\u001b[0;34m(self, statement, parameters, execution_options)\u001b[0m\n\u001b[1;32m   1412\u001b[0m     \u001b[39mraise\u001b[39;00m exc\u001b[39m.\u001b[39mObjectNotExecutableError(statement) \u001b[39mfrom\u001b[39;00m \u001b[39merr\u001b[39;00m\n\u001b[1;32m   1413\u001b[0m \u001b[39melse\u001b[39;00m:\n\u001b[0;32m-> 1414\u001b[0m     \u001b[39mreturn\u001b[39;00m meth(\n\u001b[1;32m   1415\u001b[0m         \u001b[39mself\u001b[39;49m,\n\u001b[1;32m   1416\u001b[0m         distilled_parameters,\n\u001b[1;32m   1417\u001b[0m         execution_options \u001b[39mor\u001b[39;49;00m NO_OPTIONS,\n\u001b[1;32m   1418\u001b[0m     )\n",
      "File \u001b[0;32m/usr/local/lib/python3.11/site-packages/sqlalchemy/sql/elements.py:486\u001b[0m, in \u001b[0;36mClauseElement._execute_on_connection\u001b[0;34m(self, connection, distilled_params, execution_options)\u001b[0m\n\u001b[1;32m    484\u001b[0m     \u001b[39mif\u001b[39;00m TYPE_CHECKING:\n\u001b[1;32m    485\u001b[0m         \u001b[39massert\u001b[39;00m \u001b[39misinstance\u001b[39m(\u001b[39mself\u001b[39m, Executable)\n\u001b[0;32m--> 486\u001b[0m     \u001b[39mreturn\u001b[39;00m connection\u001b[39m.\u001b[39;49m_execute_clauseelement(\n\u001b[1;32m    487\u001b[0m         \u001b[39mself\u001b[39;49m, distilled_params, execution_options\n\u001b[1;32m    488\u001b[0m     )\n\u001b[1;32m    489\u001b[0m \u001b[39melse\u001b[39;00m:\n\u001b[1;32m    490\u001b[0m     \u001b[39mraise\u001b[39;00m exc\u001b[39m.\u001b[39mObjectNotExecutableError(\u001b[39mself\u001b[39m)\n",
      "File \u001b[0;32m/usr/local/lib/python3.11/site-packages/sqlalchemy/engine/base.py:1638\u001b[0m, in \u001b[0;36mConnection._execute_clauseelement\u001b[0;34m(self, elem, distilled_parameters, execution_options)\u001b[0m\n\u001b[1;32m   1626\u001b[0m compiled_cache: Optional[CompiledCacheType] \u001b[39m=\u001b[39m execution_options\u001b[39m.\u001b[39mget(\n\u001b[1;32m   1627\u001b[0m     \u001b[39m\"\u001b[39m\u001b[39mcompiled_cache\u001b[39m\u001b[39m\"\u001b[39m, \u001b[39mself\u001b[39m\u001b[39m.\u001b[39mengine\u001b[39m.\u001b[39m_compiled_cache\n\u001b[1;32m   1628\u001b[0m )\n\u001b[1;32m   1630\u001b[0m compiled_sql, extracted_params, cache_hit \u001b[39m=\u001b[39m elem\u001b[39m.\u001b[39m_compile_w_cache(\n\u001b[1;32m   1631\u001b[0m     dialect\u001b[39m=\u001b[39mdialect,\n\u001b[1;32m   1632\u001b[0m     compiled_cache\u001b[39m=\u001b[39mcompiled_cache,\n\u001b[0;32m   (...)\u001b[0m\n\u001b[1;32m   1636\u001b[0m     linting\u001b[39m=\u001b[39m\u001b[39mself\u001b[39m\u001b[39m.\u001b[39mdialect\u001b[39m.\u001b[39mcompiler_linting \u001b[39m|\u001b[39m compiler\u001b[39m.\u001b[39mWARN_LINTING,\n\u001b[1;32m   1637\u001b[0m )\n\u001b[0;32m-> 1638\u001b[0m ret \u001b[39m=\u001b[39m \u001b[39mself\u001b[39;49m\u001b[39m.\u001b[39;49m_execute_context(\n\u001b[1;32m   1639\u001b[0m     dialect,\n\u001b[1;32m   1640\u001b[0m     dialect\u001b[39m.\u001b[39;49mexecution_ctx_cls\u001b[39m.\u001b[39;49m_init_compiled,\n\u001b[1;32m   1641\u001b[0m     compiled_sql,\n\u001b[1;32m   1642\u001b[0m     distilled_parameters,\n\u001b[1;32m   1643\u001b[0m     execution_options,\n\u001b[1;32m   1644\u001b[0m     compiled_sql,\n\u001b[1;32m   1645\u001b[0m     distilled_parameters,\n\u001b[1;32m   1646\u001b[0m     elem,\n\u001b[1;32m   1647\u001b[0m     extracted_params,\n\u001b[1;32m   1648\u001b[0m     cache_hit\u001b[39m=\u001b[39;49mcache_hit,\n\u001b[1;32m   1649\u001b[0m )\n\u001b[1;32m   1650\u001b[0m \u001b[39mif\u001b[39;00m has_events:\n\u001b[1;32m   1651\u001b[0m     \u001b[39mself\u001b[39m\u001b[39m.\u001b[39mdispatch\u001b[39m.\u001b[39mafter_execute(\n\u001b[1;32m   1652\u001b[0m         \u001b[39mself\u001b[39m,\n\u001b[1;32m   1653\u001b[0m         elem,\n\u001b[0;32m   (...)\u001b[0m\n\u001b[1;32m   1657\u001b[0m         ret,\n\u001b[1;32m   1658\u001b[0m     )\n",
      "File \u001b[0;32m/usr/local/lib/python3.11/site-packages/sqlalchemy/engine/base.py:1842\u001b[0m, in \u001b[0;36mConnection._execute_context\u001b[0;34m(self, dialect, constructor, statement, parameters, execution_options, *args, **kw)\u001b[0m\n\u001b[1;32m   1837\u001b[0m     \u001b[39mreturn\u001b[39;00m \u001b[39mself\u001b[39m\u001b[39m.\u001b[39m_exec_insertmany_context(\n\u001b[1;32m   1838\u001b[0m         dialect,\n\u001b[1;32m   1839\u001b[0m         context,\n\u001b[1;32m   1840\u001b[0m     )\n\u001b[1;32m   1841\u001b[0m \u001b[39melse\u001b[39;00m:\n\u001b[0;32m-> 1842\u001b[0m     \u001b[39mreturn\u001b[39;00m \u001b[39mself\u001b[39;49m\u001b[39m.\u001b[39;49m_exec_single_context(\n\u001b[1;32m   1843\u001b[0m         dialect, context, statement, parameters\n\u001b[1;32m   1844\u001b[0m     )\n",
      "File \u001b[0;32m/usr/local/lib/python3.11/site-packages/sqlalchemy/engine/base.py:1983\u001b[0m, in \u001b[0;36mConnection._exec_single_context\u001b[0;34m(self, dialect, context, statement, parameters)\u001b[0m\n\u001b[1;32m   1980\u001b[0m     result \u001b[39m=\u001b[39m context\u001b[39m.\u001b[39m_setup_result_proxy()\n\u001b[1;32m   1982\u001b[0m \u001b[39mexcept\u001b[39;00m \u001b[39mBaseException\u001b[39;00m \u001b[39mas\u001b[39;00m e:\n\u001b[0;32m-> 1983\u001b[0m     \u001b[39mself\u001b[39;49m\u001b[39m.\u001b[39;49m_handle_dbapi_exception(\n\u001b[1;32m   1984\u001b[0m         e, str_statement, effective_parameters, cursor, context\n\u001b[1;32m   1985\u001b[0m     )\n\u001b[1;32m   1987\u001b[0m \u001b[39mreturn\u001b[39;00m result\n",
      "File \u001b[0;32m/usr/local/lib/python3.11/site-packages/sqlalchemy/engine/base.py:2326\u001b[0m, in \u001b[0;36mConnection._handle_dbapi_exception\u001b[0;34m(self, e, statement, parameters, cursor, context, is_sub_exec)\u001b[0m\n\u001b[1;32m   2324\u001b[0m \u001b[39melif\u001b[39;00m should_wrap:\n\u001b[1;32m   2325\u001b[0m     \u001b[39massert\u001b[39;00m sqlalchemy_exception \u001b[39mis\u001b[39;00m \u001b[39mnot\u001b[39;00m \u001b[39mNone\u001b[39;00m\n\u001b[0;32m-> 2326\u001b[0m     \u001b[39mraise\u001b[39;00m sqlalchemy_exception\u001b[39m.\u001b[39mwith_traceback(exc_info[\u001b[39m2\u001b[39m]) \u001b[39mfrom\u001b[39;00m \u001b[39me\u001b[39;00m\n\u001b[1;32m   2327\u001b[0m \u001b[39melse\u001b[39;00m:\n\u001b[1;32m   2328\u001b[0m     \u001b[39massert\u001b[39;00m exc_info[\u001b[39m1\u001b[39m] \u001b[39mis\u001b[39;00m \u001b[39mnot\u001b[39;00m \u001b[39mNone\u001b[39;00m\n",
      "File \u001b[0;32m/usr/local/lib/python3.11/site-packages/sqlalchemy/engine/base.py:1964\u001b[0m, in \u001b[0;36mConnection._exec_single_context\u001b[0;34m(self, dialect, context, statement, parameters)\u001b[0m\n\u001b[1;32m   1962\u001b[0m                 \u001b[39mbreak\u001b[39;00m\n\u001b[1;32m   1963\u001b[0m     \u001b[39mif\u001b[39;00m \u001b[39mnot\u001b[39;00m evt_handled:\n\u001b[0;32m-> 1964\u001b[0m         \u001b[39mself\u001b[39;49m\u001b[39m.\u001b[39;49mdialect\u001b[39m.\u001b[39;49mdo_execute(\n\u001b[1;32m   1965\u001b[0m             cursor, str_statement, effective_parameters, context\n\u001b[1;32m   1966\u001b[0m         )\n\u001b[1;32m   1968\u001b[0m \u001b[39mif\u001b[39;00m \u001b[39mself\u001b[39m\u001b[39m.\u001b[39m_has_events \u001b[39mor\u001b[39;00m \u001b[39mself\u001b[39m\u001b[39m.\u001b[39mengine\u001b[39m.\u001b[39m_has_events:\n\u001b[1;32m   1969\u001b[0m     \u001b[39mself\u001b[39m\u001b[39m.\u001b[39mdispatch\u001b[39m.\u001b[39mafter_cursor_execute(\n\u001b[1;32m   1970\u001b[0m         \u001b[39mself\u001b[39m,\n\u001b[1;32m   1971\u001b[0m         cursor,\n\u001b[0;32m   (...)\u001b[0m\n\u001b[1;32m   1975\u001b[0m         context\u001b[39m.\u001b[39mexecutemany,\n\u001b[1;32m   1976\u001b[0m     )\n",
      "File \u001b[0;32m/usr/local/lib/python3.11/site-packages/sqlalchemy/engine/default.py:748\u001b[0m, in \u001b[0;36mDefaultDialect.do_execute\u001b[0;34m(self, cursor, statement, parameters, context)\u001b[0m\n\u001b[1;32m    747\u001b[0m \u001b[39mdef\u001b[39;00m \u001b[39mdo_execute\u001b[39m(\u001b[39mself\u001b[39m, cursor, statement, parameters, context\u001b[39m=\u001b[39m\u001b[39mNone\u001b[39;00m):\n\u001b[0;32m--> 748\u001b[0m     cursor\u001b[39m.\u001b[39mexecute(statement, parameters)\n",
      "\u001b[0;31mOperationalError\u001b[0m: (sqlite3.OperationalError) attempt to write a readonly database\n[SQL: INSERT INTO \"Author\" (name, surname, birthdate) VALUES (?, ?, ?)]\n[parameters: ('J.R.R.', 'Tolkien', None)]\n(Background on this error at: https://sqlalche.me/e/20/e3q8)"
     ]
    }
   ],
   "source": [
    "import customer\n",
    "some_testing()"
   ]
  },
  {
   "attachments": {},
   "cell_type": "markdown",
   "metadata": {},
   "source": [
    "Ok new error - This one's either caused by leftover code. ```session.commit()``` is not needed when we run ```Session()``` context manager in SQLAlchemy. Or it could be that the db is open in another Jupyter notebook kernel? Let's try remove commit(), restart and try again:"
   ]
  },
  {
   "cell_type": "code",
   "execution_count": 5,
   "metadata": {},
   "outputs": [
    {
     "name": "stdout",
     "output_type": "stream",
     "text": [
      "Store 'Toads Books' already exists\n",
      "Store 'The Great Library' already exists\n",
      "Store 'Böcker & Babbel' already exists\n",
      "Book '9780007117116' already exists as The Lord of the Rings.\n",
      "Book '9780439554930' already exists as Harry Potter and the Philosopher's Stone.\n",
      "Book '9780553801477' already exists as Foundation.\n",
      "Book '9780553588488' already exists as Ender's Game.\n",
      "Book '9781400031702' already exists as The Picture of Dorian Gray.\n",
      "Book '9780141187761' already exists as Nineteen Eighty-Four.\n",
      "Book '9780316346627' already exists as A Game of Thrones.\n",
      "Book '9780061124952' already exists as American Gods.\n",
      "Book '9780679745587' already exists as One Hundred Years of Solitude.\n",
      "Book '9780553382563' already exists as The Hitchhiker's Guide to the Galaxy.\n",
      "Added author new_author=<models.Author object at 0x111a73790>\n",
      "Added author new_author=<models.Author object at 0x111a7d0d0>\n",
      "Added author new_author=<models.Author object at 0x111a894d0>\n",
      "Added author new_author=<models.Author object at 0x111a883d0>\n",
      "Added author new_author=<models.Author object at 0x111a8b450>\n",
      "Added author new_author=<models.Author object at 0x111a8b590>\n",
      "Added author new_author=<models.Author object at 0x111a89a10>\n",
      "Added author new_author=<models.Author object at 0x111a8b610>\n",
      "Added author new_author=<models.Author object at 0x111ab4910>\n",
      "Added author new_author=<models.Author object at 0x111ab4850>\n",
      "Added 200 copies of 9780007117116 to Toads Books.\n",
      "Added 5000 of all existing books to The Great Library\n",
      "View already exists.\n",
      "The Lord of the Rings\n",
      "Harry Potter and the Philosopher's Stone\n",
      "The Picture of Dorian Gray\n",
      "The Hitchhiker's Guide to the Galaxy\n",
      "('John',) purchased 10 copies of 'The Lord of the Rings' (ISBN: 9780007117116) from 'Toads Books' for a total cost of 299.9.\n",
      "('John',) now owns 50 book(s) (1 unique) and has a total spending of 1499.5000000000.\n",
      "('Jane',) purchased 1 copies of 'The Lord of the Rings' (ISBN: 9780007117116) from 'The Great Library' for a total cost of 29.99.\n",
      "('Jane',) now owns 5 book(s) (1 unique) and has a total spending of 149.9500000000.\n",
      "1000 copies of ISBN 9780007117116 moved from store 2 to store 3.\n",
      "190 copies of ISBN 9780007117116 moved from store 1 to store 2.\n",
      "Sry, The Lord of the Rings is out of stock in this store.\n",
      "Checking other stores...\n",
      "Great news, the book The Lord of the Rings was found at Böcker & Babbel!\n",
      "('Bob',) purchased 3 copies of 'The Lord of the Rings' (ISBN: 9780007117116) from 'Böcker & Babbel' for a total cost of 89.97.\n",
      "('Bob',) now owns 15 book(s) (1 unique) and has a total spending of 449.8500000000.\n",
      "Total sales: 2099 coins. Ok!\n"
     ]
    }
   ],
   "source": [
    "import books\n",
    "some_testing()"
   ]
  },
  {
   "attachments": {},
   "cell_type": "markdown",
   "metadata": {},
   "source": [
    "Nice! I don't like Jupyter Notebook and SQL at all though. It connects to another instance of the db, which is fine for now, but in the long run I gotta find another workflow."
   ]
  },
  {
   "attachments": {},
   "cell_type": "markdown",
   "metadata": {},
   "source": [
    "---\n",
    "\n",
    "**About ISBN**\n",
    "\n",
    "Example of how an ISBN is structured: ISBN 978-91-7000-150-5\n",
    "\n",
    "1. Prefix - all ISBNs begin with the prefix 978\n",
    "2. Area identifier - for nationally, geographically or linguistically determined areas (91 = Sweden)\n",
    "3. Publisher identifier (7000)\n",
    "4. Title identifier (150)\n",
    "5. Check digit (5)\n",
    "\n",
    "<a href=\"https://www.kb.se/download/18.280a529018702e6727e363d/1681904094677/ISBN-2023.pdf\">source</a>\n",
    "\n",
    "This might cause search issues. Users might query a seach as \"978-91-7000-150-5\", \"978-9170001505\" or \"9789170001505\".\n",
    "\n",
    "To prevent this, we run <code>replace('-','').replace(' ', '')</code> which removes all dashes and blankspaces."
   ]
  },
  {
   "cell_type": "code",
   "execution_count": 3,
   "metadata": {},
   "outputs": [
    {
     "name": "stdout",
     "output_type": "stream",
     "text": [
      "ISBN13 978-91-7000-150-5 validates True\n",
      "ISBN13 978-1734314509 validates False\n",
      "ISBN13 978-1788399081 validates True\n",
      "ISBN13 978-1788399083 validates False\n"
     ]
    }
   ],
   "source": [
    "from Scripts.utils import validate_isbn\n",
    "\n",
    "# Validate ISBN\n",
    "# Source https://rosettacode.org/wiki/ISBN13_check_digit\n",
    "\n",
    "# Validate the check digit of an ISBN-13 code:\n",
    "\n",
    "#  Multiply every other digit by  3.\n",
    "#  Add these numbers and the other digits.\n",
    "#  Take the remainder of this number after division by  10.\n",
    "#  If it is  0,   the ISBN-13 check digit is correct.\n",
    "\n",
    "tests = '''\n",
    "978-91-7000-150-5\n",
    "978-1734314509\n",
    "978-1788399081\n",
    "978-1788399083'''.strip().split()\n",
    "for t in tests:\n",
    "    print(f\"ISBN13 {t} validates {validate_isbn(t)}\")"
   ]
  },
  {
   "attachments": {},
   "cell_type": "markdown",
   "metadata": {},
   "source": [
    "Also, ISBN should be stored as text data and not int, since some ISBN can start with 0."
   ]
  }
 ],
 "metadata": {
  "kernelspec": {
   "display_name": "Python 3",
   "language": "python",
   "name": "python3"
  },
  "language_info": {
   "codemirror_mode": {
    "name": "ipython",
    "version": 3
   },
   "file_extension": ".py",
   "mimetype": "text/x-python",
   "name": "python",
   "nbconvert_exporter": "python",
   "pygments_lexer": "ipython3",
   "version": "3.11.3"
  },
  "orig_nbformat": 4
 },
 "nbformat": 4,
 "nbformat_minor": 2
}
