{
 "cells": [
  {
   "attachments": {},
   "cell_type": "markdown",
   "metadata": {},
   "source": [
    "**About ISBN**\n",
    "\n",
    "Example of how an ISBN is structured: ISBN 978-91-7000-150-5\n",
    "\n",
    "1. Prefix - all ISBNs begin with the prefix 978\n",
    "2. Area identifier - for nationally, geographically or linguistically determined areas (91 = Sweden)\n",
    "3. Publisher identifier (7000)\n",
    "4. Title identifier (150)\n",
    "5. Check digit (5)\n",
    "\n",
    "<a href=\"https://www.kb.se/download/18.280a529018702e6727e363d/1681904094677/ISBN-2023.pdf\">source</a>\n",
    "\n",
    "This might cause search issues. Users might query a seach as \"978-91-7000-150-5\", \"978-9170001505\" or \"9789170001505\".\n",
    "\n",
    "To solve this, we always strip search queries: "
   ]
  },
  {
   "cell_type": "code",
   "execution_count": 3,
   "metadata": {},
   "outputs": [
    {
     "name": "stdout",
     "output_type": "stream",
     "text": [
      "ISBN13 978-91-7000-150-5 validates True\n",
      "ISBN13 978-1734314509 validates False\n",
      "ISBN13 978-1788399081 validates True\n",
      "ISBN13 978-1788399083 validates False\n"
     ]
    }
   ],
   "source": [
    "from utils import validate_isbn\n",
    "\n",
    "# Validate ISBN\n",
    "# Source https://rosettacode.org/wiki/ISBN13_check_digit\n",
    "\n",
    "# Validate the check digit of an ISBN-13 code:\n",
    "\n",
    "#  Multiply every other digit by  3.\n",
    "#  Add these numbers and the other digits.\n",
    "#  Take the remainder of this number after division by  10.\n",
    "#  If it is  0,   the ISBN-13 check digit is correct.\n",
    "\n",
    "tests = '''\n",
    "978-91-7000-150-5\n",
    "978-1734314509\n",
    "978-1788399081\n",
    "978-1788399083'''.strip().split()\n",
    "for t in tests:\n",
    "    print(f\"ISBN13 {t} validates {validate_isbn(t)}\")"
   ]
  },
  {
   "attachments": {},
   "cell_type": "markdown",
   "metadata": {},
   "source": [
    "Also, ISBN should be stored as text data and not int, since some ISBN can start with 0."
   ]
  }
 ],
 "metadata": {
  "kernelspec": {
   "display_name": "Python 3",
   "language": "python",
   "name": "python3"
  },
  "language_info": {
   "codemirror_mode": {
    "name": "ipython",
    "version": 3
   },
   "file_extension": ".py",
   "mimetype": "text/x-python",
   "name": "python",
   "nbconvert_exporter": "python",
   "pygments_lexer": "ipython3",
   "version": "3.11.3"
  },
  "orig_nbformat": 4
 },
 "nbformat": 4,
 "nbformat_minor": 2
}
