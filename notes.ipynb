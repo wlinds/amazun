{
 "cells": [
  {
   "attachments": {},
   "cell_type": "markdown",
   "metadata": {},
   "source": [
    "### **Approach 1: Creating and populating the database with SQLite**\n",
    "\n",
    "Since SQLite is server-less and self-contained I figured this would be a good starting point for a prototype.\\\n",
    "I created some scripts with sqlite3 to create and populate the database with authors, books, stores, customers, orders etc.\n",
    "\n",
    "I ended up with these tables:\n",
    "\n",
    "<div style=\"display: flex; flex-direction: row;\">\n",
    "  <div style=\"flex: 1; margin:5px;\">\n",
    "\n",
    "**Table 1: Author**\n",
    "- 'ID' (Primary Key)\n",
    "- 'Name'\n",
    "- 'Surname'\n",
    "- 'Birthdate'\n",
    "\n",
    "**Table 2: Book**\n",
    "- 'ISBN13' (Primary Key)\n",
    "- 'Title'\n",
    "- 'Language'\n",
    "- 'Price'\n",
    "- 'Release'\n",
    "- 'AuthID'\n",
    "\n",
    "\n",
    "**Table 3: Store**\n",
    "- 'ID' (Primary Key)\n",
    "- 'Store_Name'\n",
    "- 'Store_Address'\n",
    "\n",
    "</div>\n",
    "<div style=\"flex: 1; margin:5px;\">\n",
    "\n",
    "**Table 4: Inventory**\n",
    "- 'StoreID'\n",
    "- 'ISBN13'\n",
    "- 'Stock'\n",
    "- Composite Key: 'StoreID' & 'ISBN13'\n",
    "\n",
    "**Table 5: Cst (Customer)**\n",
    "- 'ID' (Primary Key)\n",
    "- 'Name'\n",
    "- 'Surname'\n",
    "- 'Address'\n",
    "- 'City'\n",
    "- 'State'\n",
    "- 'ZipCode'\n",
    "- 'Email'\n",
    "\n",
    "</div>\n",
    "<div style=\"flex: 1; margin:5px;\">\n",
    "\n",
    "**Table 6: Cst_Order**\n",
    "- 'OrderID' (Primary Key)\n",
    "- 'CustomerID'\n",
    "- 'Order_Date'\n",
    "- 'Expected_Delivery'\n",
    "- 'Total_Price'\n",
    "\n",
    "**Table 7: Cst_Order_Items**\n",
    "- 'OrderID (Primary Key)\n",
    "- 'ISBN13' (Primary key)\n",
    "- 'Units'\n",
    "- 'Shipped_From'\n",
    "- Composite Key: 'OrderID' & 'ISBN13'\n",
    "</div>"
   ]
  },
  {
   "attachments": {},
   "cell_type": "markdown",
   "metadata": {},
   "source": [
    "The requriement of the view *Vy: ”TitlarPerFörfattare”*, was created with some joins:"
   ]
  },
  {
   "cell_type": "code",
   "execution_count": null,
   "metadata": {},
   "outputs": [],
   "source": [
    "c.execute('''CREATE VIEW TitlarPerFörfattare AS\n",
    "               SELECT Author.Name || ' ' || Author.Surname AS Namn,\n",
    "                      strftime('%Y', 'now') - strftime('%Y', Author.Birthdate) AS Ålder,\n",
    "                      COUNT(DISTINCT Book.Title) AS Titlar,\n",
    "                      SUM(Book.Price * Inventory.Stock) AS Lagervärde\n",
    "               FROM Author\n",
    "               JOIN Book ON Author.ID = Book.AuthID\n",
    "               JOIN Inventory ON Book.ISBN13 = Inventory.ISBN13\n",
    "               GROUP BY Author.Name, Author.Surname\n",
    "               ORDER BY Namn''')"
   ]
  },
  {
   "attachments": {},
   "cell_type": "markdown",
   "metadata": {},
   "source": [
    "**Sample data**, such as customer info was easy to generate with chatGPT.\\\n",
    "I made a function called populate_customer_table(), in which I added these rows:"
   ]
  },
  {
   "cell_type": "code",
   "execution_count": null,
   "metadata": {},
   "outputs": [],
   "source": [
    "    customer_data = [\n",
    "        ('John', 'Doe', 'johndoe@example.com', '123 Main St', 'New York', 'NY', '10001'),\n",
    "        ('Jane', 'Smith', 'janesmith@example.com', '456 Elm St', 'Los Angeles', 'CA', '90001'),\n",
    "        ('Bob', 'Johnson', 'bobjohnson@example.com', '789 Oak St', 'Chicago', 'IL', '60601'),\n",
    "        ('Alice', 'Lee', 'alicelee@example.com', '321 Maple St', 'Houston', 'TX', '77001'),\n",
    "        ('David', 'Brown', 'davidbrown@example.com', '654 Pine St', 'Philadelphia', 'PA', '19101')\n",
    "    ]"
   ]
  },
  {
   "attachments": {},
   "cell_type": "markdown",
   "metadata": {},
   "source": [
    "But I soon realized I'd actually already made a program for this, <a href=\"https://github.com/wlinds/tpme\">tpme</a>.\n",
    "\n",
    "tpme can generate names and email addresses but **not** physical home addresses.\n",
    "\n",
    "So should I focus on adding support for home address generation in tpme or should I port the SQLite code to a larger dbms?\n",
    "\n",
    "Neither -- *I have like 120 hours left until deadline. No problem. I'll work on some front end stuff.*"
   ]
  },
  {
   "attachments": {},
   "cell_type": "markdown",
   "metadata": {},
   "source": [
    "**Front-end hours**\n",
    "\n",
    "I started working on an interface with Flask to allow users to purchase books. But then it struck me that this was a total waste of time, I should rather make an interface for the shopkeepers at the store. Then we just outsource the customer-site creation and just hand them some API.\n",
    "\n",
    "Something that would be useful for both management and customers would be a search function. "
   ]
  },
  {
   "attachments": {},
   "cell_type": "markdown",
   "metadata": {},
   "source": [
    "**Search function**"
   ]
  },
  {
   "cell_type": "code",
   "execution_count": 2,
   "metadata": {},
   "outputs": [
    {
     "data": {
      "text/plain": [
       "{\"The Hitchhiker's Guide to the Galaxy\": [('123 Main St.', 86),\n",
       "  ('456 Elm St.', 32),\n",
       "  ('789 Oak St.', 30)]}"
      ]
     },
     "execution_count": 2,
     "metadata": {},
     "output_type": "execute_result"
    }
   ],
   "source": [
    "from books import search_books\n",
    "\n",
    "search_books('Hitchhiker')"
   ]
  },
  {
   "attachments": {},
   "cell_type": "markdown",
   "metadata": {},
   "source": [
    "### **Writing and burning books**\n",
    "\n",
    "I created a function to add books and to remove (burn) books. Adding books was easy (except for ISBN checksum I which I messed up), will return to this later. But the burn_book() function caused some errors.\n",
    "\n",
    "The burn_book() worked flawelessly for any newly added book, but if I tried to burn books that were currently in stock I received the error:\n",
    "\n",
    "<code>\n",
    "AssertionError: Dependency rule tried to blank-out primary key column 'Inventory.ISBN13' on instance\n",
    "</code>\n",
    "\n",
    "I think the foreign key constraint was trying to blank-out the primary key column ISBN13 on the instance of Inventory instead of deleting the row referencing the book. Of course, this is not allowed because the ISBN13 column is part of the primary key of the Inventory table, and therefore cannot be null or empty.\n",
    "\n",
    "To solve this, I had to update the logic in the burn_book function to check for and delete any referencing rows in the Inventory table before attempting to burn the book from the Book table."
   ]
  },
  {
   "attachments": {},
   "cell_type": "markdown",
   "metadata": {},
   "source": [
    "### **Stocking books (add to Inventory table)**\n",
    "\n",
    "After adding books to the table Book, we might wanna add these books to our Inventory/Stock. This again caused an error if we already had the book in stock. To solve this we first make a query to check if the book is in stock or not."
   ]
  },
  {
   "cell_type": "code",
   "execution_count": null,
   "metadata": {},
   "outputs": [],
   "source": [
    "def add_to_inventory(isbn, store_id, stock):\n",
    "    session = Session()\n",
    "    inventory = session.query(Inventory).filter_by(ISBN13=isbn, StoreID=store_id).first()\n",
    "    if inventory:\n",
    "        inventory.Stock += stock\n",
    "    else:\n",
    "        inventory = Inventory(ISBN13=isbn, StoreID=store_id, Stock=stock)\n",
    "        session.add(inventory)\n",
    "    session.commit()"
   ]
  },
  {
   "attachments": {},
   "cell_type": "markdown",
   "metadata": {},
   "source": [
    "Now we have functions to search for existing books, write new books, burn books and stock books. These functions should be accessed by the bookstore staff. But what about our clients, customers, resellers, etc. They should be able to order books!"
   ]
  },
  {
   "attachments": {},
   "cell_type": "markdown",
   "metadata": {},
   "source": [
    "### **Actually selling books (or buying, depending on who you are)**\n",
    "I made a new function which allows any registered customer to purchase any book if its in stock."
   ]
  },
  {
   "cell_type": "code",
   "execution_count": 1,
   "metadata": {},
   "outputs": [
    {
     "name": "stdout",
     "output_type": "stream",
     "text": [
      "John purchased 2 copies of 'The Lord of the Rings' (ISBN: 9780007117116) from '123 Main St.' for a total cost of 59.98.\n",
      "There are 4 copies of 'The Lord of the Rings' (ISBN: 9780007117116) left in stock at '123 Main St.'.\n"
     ]
    }
   ],
   "source": [
    "from customer import purchase_book\n",
    "\n",
    "purchase_book(\"9780007117116\", 1, 1, 2)"
   ]
  },
  {
   "cell_type": "code",
   "execution_count": 3,
   "metadata": {},
   "outputs": [
    {
     "name": "stdout",
     "output_type": "stream",
     "text": [
      "Sry, out of stock in this store. Try another store.\n"
     ]
    }
   ],
   "source": [
    "purchase_book(\"9780007117116\", 1, 1, 9999)"
   ]
  },
  {
   "attachments": {},
   "cell_type": "markdown",
   "metadata": {},
   "source": [
    "Some basic error handling.\n",
    "\n",
    "To make this work as I wanted I also had to create a new table:\n",
    "\n",
    "# Transactions\n",
    "\n",
    "Transactions contain ISBN, StoreID, CustomerID, Quantity, DateTime of Purchase and Total_Cost."
   ]
  },
  {
   "attachments": {},
   "cell_type": "markdown",
   "metadata": {},
   "source": [
    "Its like 80 hours left until deadline and I have so many ideas. But I really should work on improving the base code in models.py before adding more stuff. I've added a TODO:"
   ]
  },
  {
   "cell_type": "code",
   "execution_count": null,
   "metadata": {},
   "outputs": [],
   "source": [
    "#TODO:\n",
    "# Update to strict naming conventions (snake_case)\n",
    "# Reduce redundancy (DRY)\n",
    "# Improve constraints\n",
    "# Remove declarative_base() (Legacy code)"
   ]
  },
  {
   "attachments": {},
   "cell_type": "markdown",
   "metadata": {},
   "source": [
    "I will probably let that TODO sit there for a while, maybe indefinitely."
   ]
  },
  {
   "attachments": {},
   "cell_type": "markdown",
   "metadata": {},
   "source": [
    "Ok, so I've actually updated mostly all names to snake_case! 🐍 While at it I made the column names a bit more intuitive. I have some names left, StoreID, for example. But I just have to go through all the functions in store_manager.py to adjust this."
   ]
  },
  {
   "attachments": {},
   "cell_type": "markdown",
   "metadata": {},
   "source": [
    "### **Moving books**"
   ]
  },
  {
   "cell_type": "code",
   "execution_count": 1,
   "metadata": {},
   "outputs": [
    {
     "name": "stdout",
     "output_type": "stream",
     "text": [
      "1000 copies of ISBN 9780007117116 moved from store 2 to store 3.\n"
     ]
    },
    {
     "data": {
      "text/plain": [
       "True"
      ]
     },
     "execution_count": 1,
     "metadata": {},
     "output_type": "execute_result"
    }
   ],
   "source": [
    "from store_manager import *\n",
    "\n",
    "move_books(9780007117116, 2, 3, 1000)"
   ]
  },
  {
   "attachments": {},
   "cell_type": "markdown",
   "metadata": {},
   "source": [
    "## **Testing**\n",
    "\n",
    "Running this in ipynb is weird but let's try it. Testing with new instance from scratch:"
   ]
  },
  {
   "cell_type": "code",
   "execution_count": 6,
   "metadata": {},
   "outputs": [
    {
     "name": "stdout",
     "output_type": "stream",
     "text": [
      "Store 'Toads Books' already exists\n",
      "Store 'The Great Library' already exists\n",
      "Store 'Böcker & Babbel' already exists\n",
      "Book '9780007117116' already exists as The Lord of the Rings.\n",
      "Book '9780439554930' already exists as Harry Potter and the Philosopher's Stone.\n",
      "Book '9780553801477' already exists as Foundation.\n",
      "Book '9780553588488' already exists as Ender's Game.\n",
      "Book '9781400031702' already exists as The Picture of Dorian Gray.\n",
      "Book '9780141187761' already exists as Nineteen Eighty-Four.\n",
      "Book '9780316346627' already exists as A Game of Thrones.\n",
      "Book '9780061124952' already exists as American Gods.\n",
      "Book '9780679745587' already exists as One Hundred Years of Solitude.\n",
      "Book '9780553382563' already exists as The Hitchhiker's Guide to the Galaxy.\n",
      "Book '9781473214712' already exists as Good Omens.\n",
      "Added 200 copies of 9780007117116 to Toads Books.\n",
      "Added 5000 of all existing books to The Great Library\n",
      "View already exists.\n",
      "The Lord of the Rings\n",
      "Harry Potter and the Philosopher's Stone\n",
      "The Picture of Dorian Gray\n",
      "The Hitchhiker's Guide to the Galaxy\n",
      "('John',) purchased 10 copies of 'The Lord of the Rings' (ISBN: 9780007117116) from 'Toads Books' for a total cost of 299.9.\n",
      "('John',) now owns 20 book(s) (1 unique) and has a total spending of 599.8000000000.\n",
      "('Jane',) purchased 1 copies of 'The Lord of the Rings' (ISBN: 9780007117116) from 'The Great Library' for a total cost of 29.99.\n",
      "('Jane',) now owns 2 book(s) (1 unique) and has a total spending of 59.9800000000.\n",
      "1000 copies of ISBN 9780007117116 moved from store 2 to store 3.\n",
      "190 copies of ISBN 9780007117116 moved from store 1 to store 2.\n",
      "Sry, The Lord of the Rings is out of stock in this store.\n",
      "Checking other stores...\n",
      "Great news, the book The Lord of the Rings was found at Böcker & Babbel!\n",
      "('Bob',) purchased 3 copies of 'The Lord of the Rings' (ISBN: 9780007117116) from 'Böcker & Babbel' for a total cost of 89.97.\n",
      "('Bob',) now owns 6 book(s) (1 unique) and has a total spending of 179.9400000000.\n",
      "Total sales: 840 coins. Ok!\n"
     ]
    }
   ],
   "source": [
    "from models import *\n",
    "import os, store_manager, books, customer\n",
    "from Scripts.utils import titles_by_author, get_title, total_sales\n",
    "def some_testing():\n",
    "\n",
    "    Base.metadata.create_all(bind=engine)\n",
    "\n",
    "    store_manager.get_dummy_stores()\n",
    "    books.get_dummy_books()\n",
    "\n",
    "    books.get_dummy_authors()\n",
    "\n",
    "    # Add 200 copies of Lord of The Rings to Store 1\n",
    "    books.add_to_inventory(9780007117116, 1, 200, verbose=True)\n",
    "\n",
    "    # Add 5000 copies of ALL existing books to store 2:\n",
    "    books.add_all_books(store_id=2, copies=5000, verbose=True)\n",
    "\n",
    "    # Add view #TODO: Missing date of birth\n",
    "    titles_by_author()\n",
    "\n",
    "    # Add dummy customers\n",
    "    customer.get_dummy_cst()\n",
    "\n",
    "    # Search book\n",
    "    results = books.search_books(\"The\")\n",
    "    for i in results:\n",
    "        print(i)\n",
    "\n",
    "    # Customer book purchase\n",
    "    customer.purchase_book(9780007117116, 1, 1, 10)\n",
    "    customer.purchase_book(9780007117116, 2, 2, 1)\n",
    "    # Move books\n",
    "    store_manager.move_books(9780007117116, 2, 3, 1000)\n",
    "    store_manager.move_books(9780007117116, 1, 2, 190)\n",
    "    customer.purchase_book(\"9780007117116\", 1, 3, 3)\n",
    "    customer.purchase_book(\"9780007117116\", 3, 3, 3)\n",
    "    total_sales()\n",
    "\n",
    "some_testing()"
   ]
  },
  {
   "attachments": {},
   "cell_type": "markdown",
   "metadata": {},
   "source": [
    "And we run it again to check error handling:"
   ]
  },
  {
   "attachments": {},
   "cell_type": "markdown",
   "metadata": {},
   "source": [
    "Issue occurs when Jane tries to make a purchase:\n",
    "```customer.purchase_book(9780007117116, 2, 2, 1)```\\\n",
    "(isbn, store_id, customer_id, quantity)\n",
    "\n",
    "In the function we call ```get_customer(customer_id)``` which runs a query to simply print the name of the customer_id:\n",
    "\n",
    "```Session().query(Customer.name).filter_by(ID=customer_id).scalar()```\n",
    "\n",
    "Using .scalar() here is not necessary since we only every use this to query for 1 and only 1 name. I'll change that."
   ]
  },
  {
   "attachments": {},
   "cell_type": "markdown",
   "metadata": {},
   "source": [
    "Ok new error - This one's either caused by leftover code. ```session.commit()``` is not needed when we run ```Session()``` context manager in SQLAlchemy. Or it could be that the db is open in another Jupyter notebook kernel? Let's try remove commit(), restart and try again:\n",
    "\n",
    "EDIT: I was wrong. ```session.commit()``` commit() WAS needed. I guess the issue was within Jupyter notebook kernel."
   ]
  },
  {
   "attachments": {},
   "cell_type": "markdown",
   "metadata": {},
   "source": [
    "Nice! I don't like Jupyter Notebook and SQL at all though. It connects to another instance of the db, which is fine for now, but in the long run I gotta find another workflow."
   ]
  },
  {
   "attachments": {},
   "cell_type": "markdown",
   "metadata": {},
   "source": [
    "### **Multiple authors**\n",
    "We need to create a many-to-many relationship for multiple authors. But I'm not entirely sure what the best design would be. I will get back to this. TODO"
   ]
  },
  {
   "attachments": {},
   "cell_type": "markdown",
   "metadata": {},
   "source": [
    "Uhhh lets check what else:\n",
    "\n",
    "| Requirement                                                    | Status       |\n",
    "| -------------------------------------------------------------- | ------------ |\n",
    "| Minst 6 (4+2) tabeller relevanta för bokhandeln. | s'all good i got 7 as of now |\n",
    "| Tabeller ska vara normaliserade enligt 3NF.                    | yeah kinda i guess |\n",
    "| Alla relationer ska ha PK och FK nycklar, samt relationsvilkor som förhindrar FK's att peka på nycklar som inte existerar. | yeah kinda |\n",
    "| Kolumner ska använda lämpliga datatyper för den typ av information som ska lagras. | yeah kinda... |\n",
    "| Databasen ska innehålla ett ER-diagram som visar relationerna mellan alla tabeller på ett tydligt sätt. | nope |\n",
    "| Databasen ska innehålla lämpliga testdata för demonstration.   | yes          |\n",
    "| Databasen ska innehålla vyn ”TitlarPerFörfattare” enligt specifikation. | yes          |\n",
    "| Redovisa pythonkod, med funktionalitet enligt beskrivning ovan. | yes          |\n",
    "\n",
    "\n",
    "\n",
    "\n",
    "extras\n",
    "\n",
    "Requirement | Status\n",
    "--- | ---\n",
    "Databasen ska innehålla minst 8 (4+4) tabeller relevanta för bokhandeln. (Det ska vara minst 8 entiteter. Junktion tables räknas ej.) | Nah, we still 7\n",
    "Databasen är gjord så böcker kan ha flera författare. | nah, working on it tho\n",
    "Databasen ska innehålla SP ”FlyttaBok” enligt specifikation. | i mean kinda\n",
    "Databasen har ytterligare en vy som sammanställer för bokhandeln relevant information från minst två av de tabeller som du lagt till under rubriken ”Övriga tabeller”. Motivera hur bokhandeln kan ha nytta av den sammanställda vyn. | not yet\n"
   ]
  },
  {
   "attachments": {},
   "cell_type": "markdown",
   "metadata": {},
   "source": [
    "---\n",
    "\n",
    "**About ISBN**\n",
    "\n",
    "Example of how an ISBN is structured: ISBN 978-91-7000-150-5\n",
    "\n",
    "1. Prefix - all ISBNs begin with the prefix 978\n",
    "2. Area identifier - for nationally, geographically or linguistically determined areas (91 = Sweden)\n",
    "3. Publisher identifier (7000)\n",
    "4. Title identifier (150)\n",
    "5. Check digit (5)\n",
    "\n",
    "<a href=\"https://www.kb.se/download/18.280a529018702e6727e363d/1681904094677/ISBN-2023.pdf\">source</a>\n",
    "\n",
    "This might cause search issues. Users might query a seach as \"978-91-7000-150-5\", \"978-9170001505\" or \"9789170001505\".\n",
    "\n",
    "To prevent this, we run <code>replace('-','').replace(' ', '')</code> which removes all dashes and blankspaces."
   ]
  },
  {
   "cell_type": "code",
   "execution_count": 3,
   "metadata": {},
   "outputs": [
    {
     "name": "stdout",
     "output_type": "stream",
     "text": [
      "ISBN13 978-91-7000-150-5 validates True\n",
      "ISBN13 978-1734314509 validates False\n",
      "ISBN13 978-1788399081 validates True\n",
      "ISBN13 978-1788399083 validates False\n"
     ]
    }
   ],
   "source": [
    "from Scripts.utils import validate_isbn\n",
    "\n",
    "# Validate ISBN\n",
    "# Source https://rosettacode.org/wiki/ISBN13_check_digit\n",
    "\n",
    "# Validate the check digit of an ISBN-13 code:\n",
    "\n",
    "#  Multiply every other digit by  3.\n",
    "#  Add these numbers and the other digits.\n",
    "#  Take the remainder of this number after division by  10.\n",
    "#  If it is  0,   the ISBN-13 check digit is correct.\n",
    "\n",
    "tests = '''\n",
    "978-91-7000-150-5\n",
    "978-1734314509\n",
    "978-1788399081\n",
    "978-1788399083'''.strip().split()\n",
    "for t in tests:\n",
    "    print(f\"ISBN13 {t} validates {validate_isbn(t)}\")"
   ]
  },
  {
   "attachments": {},
   "cell_type": "markdown",
   "metadata": {},
   "source": [
    "Also, ISBN should be stored as text data and not int, since some ISBN can start with 0."
   ]
  }
 ],
 "metadata": {
  "kernelspec": {
   "display_name": "Python 3",
   "language": "python",
   "name": "python3"
  },
  "language_info": {
   "codemirror_mode": {
    "name": "ipython",
    "version": 3
   },
   "file_extension": ".py",
   "mimetype": "text/x-python",
   "name": "python",
   "nbconvert_exporter": "python",
   "pygments_lexer": "ipython3",
   "version": "3.11.3"
  },
  "orig_nbformat": 4
 },
 "nbformat": 4,
 "nbformat_minor": 2
}
